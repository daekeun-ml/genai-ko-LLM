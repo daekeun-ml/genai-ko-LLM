{
 "cells": [
  {
   "cell_type": "markdown",
   "id": "ac8197b9-f604-42ce-90d4-d02cafa91aa3",
   "metadata": {},
   "source": [
    "# Preprocess Datasets for Korean LLM (Large Language Model) fine-tuning\n",
    "---\n",
    "\n",
    "- AWS 기술 블로그에서 전처리했던 방식대로 전처리 수행\n",
    "    - https://aws.amazon.com/ko/blogs/tech/train-a-large-language-model-on-a-single-amazon-sagemaker-gpu-with-hugging-face-and-lora/\n",
    "- 허깅페이스 인증 정보 설정: `huggingface-cli login`\n",
    "    - https://huggingface.co/join\n",
    "    - https://huggingface.co/settings/tokens"
   ]
  },
  {
   "cell_type": "code",
   "execution_count": 1,
   "id": "283f4cee-20d4-4b94-930b-da48f05d03db",
   "metadata": {
    "tags": []
   },
   "outputs": [
    {
     "name": "stdout",
     "output_type": "stream",
     "text": [
      "Proceed.\n"
     ]
    }
   ],
   "source": [
    "%load_ext autoreload\n",
    "%autoreload 2\n",
    "import sys\n",
    "sys.path.append('../utils')\n",
    "sys.path.append('../templates')\n",
    "\n",
    "from common_lib import check_packages\n",
    "check_packages()"
   ]
  },
  {
   "cell_type": "markdown",
   "id": "a0dea617-b3f6-4196-a5d0-b7a39e0691b4",
   "metadata": {},
   "source": [
    "<br>\n",
    "\n",
    "## 1. Download LLM from Hugging Face hub\n",
    "---\n",
    "\n",
    "### Load dataset\n",
    "허깅페이스 허브에서 다운로드하거나 json/json 포맷의 데이터 세트를 다운로드합니다. 데이터 세트 내 샘플은 (`instruction, input, output`)의 key-value나 (`instruction, output`)의 key-value로 구성되어야 합니다.\n",
    "\n",
    "예시:\n",
    "```\n",
    "{\n",
    "    \"instruction\":\"건강을 유지하기 위한 세 가지 팁을 알려주세요.\",\n",
    "    \"input\":\"\",\n",
    "    \"output\":\"세 가지 팁은 아침식사를 꼭 챙기며, 충분한 수면을 취하고, 적극적으로 운동을 하는 것입니다.\"\n",
    "}\n",
    "```"
   ]
  },
  {
   "cell_type": "code",
   "execution_count": 2,
   "id": "57666867-edaa-4b16-8e7a-d2af661e3c42",
   "metadata": {
    "tags": []
   },
   "outputs": [
    {
     "name": "stdout",
     "output_type": "stream",
     "text": [
      "[2023-09-08 07:16:30,228] [INFO] [real_accelerator.py:158:get_accelerator] Setting ds_accelerator to cuda (auto detect)\n"
     ]
    }
   ],
   "source": [
    "import os\n",
    "import torch\n",
    "import transformers\n",
    "from datasets import load_dataset\n",
    "from inference_lib import Prompter\n",
    "from transformers import GPTNeoXForCausalLM, GPTNeoXTokenizerFast\n",
    "\n",
    "data_path = \"beomi/KoAlpaca-v1.1a\"\n",
    "#data_path = \"./data/ko_alpaca_data.json\"\n",
    "\n",
    "if data_path.endswith(\".json\") or data_path.endswith(\".jsonl\"):\n",
    "    data = load_dataset(\"json\", data_files=data_path)\n",
    "else:\n",
    "    data = load_dataset(data_path)\n",
    "    \n",
    "prompter = Prompter(\"kullm\")"
   ]
  },
  {
   "cell_type": "code",
   "execution_count": 3,
   "id": "26d9d237-1fd6-49da-a177-f96012366162",
   "metadata": {
    "tags": []
   },
   "outputs": [
    {
     "name": "stderr",
     "output_type": "stream",
     "text": [
      "The tokenizer class you load from this checkpoint is not the same type as the class this function is called from. It may result in unexpected tokenization. \n",
      "The tokenizer class you load from this checkpoint is 'PreTrainedTokenizerFast'. \n",
      "The class this function is called from is 'GPTNeoXTokenizerFast'.\n"
     ]
    }
   ],
   "source": [
    "import os\n",
    "from pathlib import Path\n",
    "from huggingface_hub import snapshot_download\n",
    "\n",
    "HF_MODEL_ID = \"nlpai-lab/kullm-polyglot-12.8b-v2\"\n",
    "\n",
    "tokenizer = GPTNeoXTokenizerFast.from_pretrained(HF_MODEL_ID)\n",
    "\n",
    "# Only download pytorch checkpoint files\n",
    "allow_patterns = [\"*.json\", \"*.pt\", \"*.bin\", \"*.txt\", \"*.model\"]\n",
    "\n",
    "# create model dir\n",
    "model_name = HF_MODEL_ID.split(\"/\")[-1].replace('.', '-')\n",
    "model_tar_dir = Path(f\"/home/ec2-user/SageMaker/models/{model_name}\")\n",
    "if not os.path.isdir(model_tar_dir):\n",
    "    os.makedirs(model_tar_dir, exist_ok=True)\n",
    "    # Download model from Hugging Face into model_dir\n",
    "    snapshot_download(\n",
    "        HF_MODEL_ID, \n",
    "        local_dir=str(model_tar_dir), \n",
    "        local_dir_use_symlinks=False,\n",
    "        allow_patterns=allow_patterns,\n",
    "        cache_dir=\"/home/ec2-user/SageMaker/\"\n",
    "    )"
   ]
  },
  {
   "cell_type": "markdown",
   "id": "c3b046aa",
   "metadata": {},
   "source": [
    "# 데이터 살펴보기\n",
    "\n",
    "데이터 구조\n",
    "- id: 각 데이터 포인트의 고유 식별자\n",
    "- instruction: 사용자의 질문 또는 명령\n",
    "- input: 추가 입력 (여기서는 비어 있음)\n",
    "- output: 질문 또는 명령에 대한 답변"
   ]
  },
  {
   "cell_type": "code",
   "execution_count": 4,
   "id": "393cdf0c",
   "metadata": {
    "tags": []
   },
   "outputs": [
    {
     "name": "stdout",
     "output_type": "stream",
     "text": [
      "{'instruction': ['양파는 어떤 식물 부위인가요? 그리고 고구마는 뿌리인가요?', '스웨터의 유래는 어디에서 시작되었나요?', '토성의 고리가 빛의 띠로 보이는 이유는 무엇인가요?  \\n\\n토성의 고리는 얼음과 같은 여러 물질로 이루어져 있다고 알고 있는데, 카시니가 찍은 사진에서 마치 빛의 띠 처럼 보이는 이유가 무엇인가요? 물질의 공전 속도가 빠르기 때문에 카메라로 담았을 때 빛의 궤적으로 보이는 건가요? 또한, 야간에 빠르게 움직이는 자동차를 장노출로 찍었을 때 빛의 궤적이 생기는 것과 같은 원리일까요? 그리고 빛의 궤적이 생기는 것은 우주라는 어두운 환경 특성 때문이라고 생각됩니다. 이게 맞을까요?'], 'output': ['양파는 잎이 아닌 식물의 줄기 부분입니다. 고구마는 식물의 뿌리 부분입니다. \\n\\n식물의 부위의 구분에 대해 궁금해하는 분이라면 분명 이 질문에 대한 답을 찾고 있을 것입니다. 양파는 잎이 아닌 줄기 부분입니다. 고구마는 다른 질문과 답변에서 언급된 것과 같이 뿌리 부분입니다. 따라서, 양파는 식물의 줄기 부분이 되고, 고구마는 식물의 뿌리 부분입니다.\\n\\n 덧붙이는 답변: 고구마 줄기도 볶아먹을 수 있나요? \\n\\n고구마 줄기도 식용으로 볶아먹을 수 있습니다. 하지만 줄기 뿐만 아니라, 잎, 씨, 뿌리까지 모든 부위가 식용으로 활용되기도 합니다. 다만, 한국에서는 일반적으로 뿌리 부분인 고구마를 주로 먹습니다.', '스웨터의 유래는 14세기경 북유럽항구지역에서 어망을 짜던 기술을 의복에 활용하면서 시작되었습니다. 노동자들의 방한복에서 시작된 스웨터는 여가생활과 스포츠의 붐에 힘입어 대중화되었습니다. 이후, 겨울철 이너웨어의 대명사가 되었습니다. 스웨터는 짜서(Knit) 만든 옷을 말하며, 어부들의 방한복으로 짜여졌던 스웨터 중에서도 스코틀랜드 해안지방의 여인들은 바다로 나가는 남편이나 연인, 자식들에게 무사히 돌아올 것을 기원하며 로프나 닻 무늬를 정성껏 짜넣었다고 합니다. 그 실용성과 정성이 오늘에까지 이어지고 있습니다.', '토성의 고리가 미세한 입자들로 이루어져 있기 때문에, 입자들의 밀도 차이 때문에 카시니 탐사선에서 찍은 고해상도 사진에서 빛의 띠가 보이는 것입니다.  \\n\\n실제로는 토성의 고리 입자들의 운동이 장노출 사진에서 잔상이 생기는 이유와 관련이 없습니다. 물체의 운동은 토성의 고리가 매끄럽게 보이는 이유와 상관이 없습니다. \\n\\n밀도 차이로 생긴 미세한 입자들의 밀도는 연속적인 것이 아니며 광학계의 분해능으로 인해 고해상도 사진에서 입자 간격이 잘 보이지 않습니다. 따라서, 토성의 고리가 빛의 띠로 보이는 것은 고리 입자밀도의 차이 때문입니다. \\n\\n이렇게 입자들의 밀도 차이가 빛의 띠처럼 보이는 것은, 마치 축구장에서 앉아 조각판처럼 보이는 것과 같은 현상으로 이해할 수 있습니다. 마찬가지로, 먼 광활지에서 숲은 보이고 나무는 안 보이며, 이것은 발생하는 현상과 유사합니다.\\n\\n더 자세한 사항을 알고 싶다면 우주선이 고리를 아주 가까이 찍어 볼 필요가 있습니다. 이것은 훨씬 상세한 데이터를 얻기 위해서는 더욱 다양한 탐사가 필요합니다.'], 'url': ['https://kin.naver.com/qna/detail.naver?d1id=11&dirId=1116&docId=55320268', 'https://kin.naver.com/qna/detail.naver?d1id=11&dirId=11080102&docId=47833655', 'https://kin.naver.com/qna/detail.naver?d1id=11&dirId=1129&docId=329134273']}\n"
     ]
    }
   ],
   "source": [
    "# 데이터셋의 처음 3개 샘플을 출력\n",
    "print(data['train'][:3])"
   ]
  },
  {
   "cell_type": "code",
   "execution_count": 5,
   "id": "989096d3",
   "metadata": {
    "tags": []
   },
   "outputs": [
    {
     "data": {
      "text/plain": [
       "DatasetDict({\n",
       "    train: Dataset({\n",
       "        features: ['instruction', 'output', 'url'],\n",
       "        num_rows: 21155\n",
       "    })\n",
       "})"
      ]
     },
     "execution_count": 5,
     "metadata": {},
     "output_type": "execute_result"
    }
   ],
   "source": [
    "data"
   ]
  },
  {
   "cell_type": "markdown",
   "id": "0e6194e3",
   "metadata": {},
   "source": [
    "### 기본 통계량 계산\n",
    "문장의 길이, 단어의 개수, 고유 단어의 개수 등을 계산합니다."
   ]
  },
  {
   "cell_type": "code",
   "execution_count": 6,
   "id": "97ac4a28",
   "metadata": {
    "tags": []
   },
   "outputs": [
    {
     "data": {
      "text/html": [
       "<div>\n",
       "<style scoped>\n",
       "    .dataframe tbody tr th:only-of-type {\n",
       "        vertical-align: middle;\n",
       "    }\n",
       "\n",
       "    .dataframe tbody tr th {\n",
       "        vertical-align: top;\n",
       "    }\n",
       "\n",
       "    .dataframe thead th {\n",
       "        text-align: right;\n",
       "    }\n",
       "</style>\n",
       "<table border=\"1\" class=\"dataframe\">\n",
       "  <thead>\n",
       "    <tr style=\"text-align: right;\">\n",
       "      <th></th>\n",
       "      <th>instruction</th>\n",
       "      <th>output</th>\n",
       "      <th>url</th>\n",
       "    </tr>\n",
       "  </thead>\n",
       "  <tbody>\n",
       "    <tr>\n",
       "      <th>0</th>\n",
       "      <td>양파는 어떤 식물 부위인가요? 그리고 고구마는 뿌리인가요?</td>\n",
       "      <td>양파는 잎이 아닌 식물의 줄기 부분입니다. 고구마는 식물의 뿌리 부분입니다. \\n\\...</td>\n",
       "      <td>https://kin.naver.com/qna/detail.naver?d1id=11...</td>\n",
       "    </tr>\n",
       "    <tr>\n",
       "      <th>1</th>\n",
       "      <td>스웨터의 유래는 어디에서 시작되었나요?</td>\n",
       "      <td>스웨터의 유래는 14세기경 북유럽항구지역에서 어망을 짜던 기술을 의복에 활용하면서 ...</td>\n",
       "      <td>https://kin.naver.com/qna/detail.naver?d1id=11...</td>\n",
       "    </tr>\n",
       "    <tr>\n",
       "      <th>2</th>\n",
       "      <td>토성의 고리가 빛의 띠로 보이는 이유는 무엇인가요?  \\n\\n토성의 고리는 얼음과 ...</td>\n",
       "      <td>토성의 고리가 미세한 입자들로 이루어져 있기 때문에, 입자들의 밀도 차이 때문에 카...</td>\n",
       "      <td>https://kin.naver.com/qna/detail.naver?d1id=11...</td>\n",
       "    </tr>\n",
       "    <tr>\n",
       "      <th>3</th>\n",
       "      <td>화장품 OEM과 화장품 ODM의 차이점은 무엇인가요?\\n화장품 자체 제조 브랜드 런...</td>\n",
       "      <td>화장품 제조업체는 대체로 OEM과 ODM을 통해 제품을 만듭니다. OEM은 브랜드에...</td>\n",
       "      <td>https://kin.naver.com/qna/detail.naver?d1id=5&amp;...</td>\n",
       "    </tr>\n",
       "    <tr>\n",
       "      <th>4</th>\n",
       "      <td>'사이보그'는 언제 처음 등장한 말이며, 그 의미와 종류에는 어떤 것이 있는지 알고...</td>\n",
       "      <td>'사이보그'는 1960년에 처음 등장한 말로, 기계와 유기체가 합성되어 생겨난 새로...</td>\n",
       "      <td>https://kin.naver.com/qna/detail.naver?d1id=11...</td>\n",
       "    </tr>\n",
       "    <tr>\n",
       "      <th>...</th>\n",
       "      <td>...</td>\n",
       "      <td>...</td>\n",
       "      <td>...</td>\n",
       "    </tr>\n",
       "    <tr>\n",
       "      <th>21150</th>\n",
       "      <td>왕의 우물이란 무엇인가요?</td>\n",
       "      <td>왕의 우물, 즉 왕실에서 쓰던 우물은 어정, 혹은 왕정이라고 부르며 한자로는 御井,...</td>\n",
       "      <td>https://kin.naver.com/qna/detail.naver?d1id=11...</td>\n",
       "    </tr>\n",
       "    <tr>\n",
       "      <th>21151</th>\n",
       "      <td>한 달의 첫째 주가 어떻게 정의되는가?\\n매달 첫째주가 되는 기준은 무엇인지 궁금합...</td>\n",
       "      <td>한 주의 시작이 일요일인지 월요일인지에 따라 첫째 주를 정의해야 합니다. 영어권에서...</td>\n",
       "      <td>https://kin.naver.com/qna/detail.naver?d1id=6&amp;...</td>\n",
       "    </tr>\n",
       "    <tr>\n",
       "      <th>21152</th>\n",
       "      <td>산모와 태아가 혈액형이 다를 때 문제가 없는 이유는 무엇인가요?</td>\n",
       "      <td>산모와 태아가 탯줄과 태반을 통해 직접적으로 혈액을 교환하지 않고, 산모의 태반에서...</td>\n",
       "      <td>https://kin.naver.com/qna/detail.naver?d1id=7&amp;...</td>\n",
       "    </tr>\n",
       "    <tr>\n",
       "      <th>21153</th>\n",
       "      <td>의자의 쇠 부분을 만지면 왜 정전기가 발생할까요?</td>\n",
       "      <td>의자의 쇠 부분을 만지면 정전기가 발생하는 이유는 의자가 땅에서 절연되어 있기 때문...</td>\n",
       "      <td>https://kin.naver.com/qna/detail.naver?d1id=11...</td>\n",
       "    </tr>\n",
       "    <tr>\n",
       "      <th>21154</th>\n",
       "      <td>캔 우유가 없는 이유는 무엇인가요?</td>\n",
       "      <td>캔 우유가 없어진 이유는 유통과 보관에서 발생하는 문제와 우유에 포함된 미네랄 성분...</td>\n",
       "      <td>https://kin.naver.com/qna/detail.naver?d1id=13...</td>\n",
       "    </tr>\n",
       "  </tbody>\n",
       "</table>\n",
       "<p>21155 rows × 3 columns</p>\n",
       "</div>"
      ],
      "text/plain": [
       "                                             instruction  \\\n",
       "0                       양파는 어떤 식물 부위인가요? 그리고 고구마는 뿌리인가요?   \n",
       "1                                  스웨터의 유래는 어디에서 시작되었나요?   \n",
       "2      토성의 고리가 빛의 띠로 보이는 이유는 무엇인가요?  \\n\\n토성의 고리는 얼음과 ...   \n",
       "3      화장품 OEM과 화장품 ODM의 차이점은 무엇인가요?\\n화장품 자체 제조 브랜드 런...   \n",
       "4      '사이보그'는 언제 처음 등장한 말이며, 그 의미와 종류에는 어떤 것이 있는지 알고...   \n",
       "...                                                  ...   \n",
       "21150                                     왕의 우물이란 무엇인가요?   \n",
       "21151  한 달의 첫째 주가 어떻게 정의되는가?\\n매달 첫째주가 되는 기준은 무엇인지 궁금합...   \n",
       "21152                산모와 태아가 혈액형이 다를 때 문제가 없는 이유는 무엇인가요?   \n",
       "21153                        의자의 쇠 부분을 만지면 왜 정전기가 발생할까요?   \n",
       "21154                                캔 우유가 없는 이유는 무엇인가요?   \n",
       "\n",
       "                                                  output  \\\n",
       "0      양파는 잎이 아닌 식물의 줄기 부분입니다. 고구마는 식물의 뿌리 부분입니다. \\n\\...   \n",
       "1      스웨터의 유래는 14세기경 북유럽항구지역에서 어망을 짜던 기술을 의복에 활용하면서 ...   \n",
       "2      토성의 고리가 미세한 입자들로 이루어져 있기 때문에, 입자들의 밀도 차이 때문에 카...   \n",
       "3      화장품 제조업체는 대체로 OEM과 ODM을 통해 제품을 만듭니다. OEM은 브랜드에...   \n",
       "4      '사이보그'는 1960년에 처음 등장한 말로, 기계와 유기체가 합성되어 생겨난 새로...   \n",
       "...                                                  ...   \n",
       "21150  왕의 우물, 즉 왕실에서 쓰던 우물은 어정, 혹은 왕정이라고 부르며 한자로는 御井,...   \n",
       "21151  한 주의 시작이 일요일인지 월요일인지에 따라 첫째 주를 정의해야 합니다. 영어권에서...   \n",
       "21152  산모와 태아가 탯줄과 태반을 통해 직접적으로 혈액을 교환하지 않고, 산모의 태반에서...   \n",
       "21153  의자의 쇠 부분을 만지면 정전기가 발생하는 이유는 의자가 땅에서 절연되어 있기 때문...   \n",
       "21154  캔 우유가 없어진 이유는 유통과 보관에서 발생하는 문제와 우유에 포함된 미네랄 성분...   \n",
       "\n",
       "                                                     url  \n",
       "0      https://kin.naver.com/qna/detail.naver?d1id=11...  \n",
       "1      https://kin.naver.com/qna/detail.naver?d1id=11...  \n",
       "2      https://kin.naver.com/qna/detail.naver?d1id=11...  \n",
       "3      https://kin.naver.com/qna/detail.naver?d1id=5&...  \n",
       "4      https://kin.naver.com/qna/detail.naver?d1id=11...  \n",
       "...                                                  ...  \n",
       "21150  https://kin.naver.com/qna/detail.naver?d1id=11...  \n",
       "21151  https://kin.naver.com/qna/detail.naver?d1id=6&...  \n",
       "21152  https://kin.naver.com/qna/detail.naver?d1id=7&...  \n",
       "21153  https://kin.naver.com/qna/detail.naver?d1id=11...  \n",
       "21154  https://kin.naver.com/qna/detail.naver?d1id=13...  \n",
       "\n",
       "[21155 rows x 3 columns]"
      ]
     },
     "execution_count": 6,
     "metadata": {},
     "output_type": "execute_result"
    }
   ],
   "source": [
    "import pandas as pd\n",
    "# 데이터셋을 pandas DataFrame으로 변환\n",
    "df = pd.DataFrame(data['train'])\n",
    "df"
   ]
  },
  {
   "cell_type": "code",
   "execution_count": 7,
   "id": "439f5d94",
   "metadata": {
    "tags": []
   },
   "outputs": [
    {
     "name": "stdout",
     "output_type": "stream",
     "text": [
      "       instruction_length  output_length    url_length\n",
      "count        21155.000000   21155.000000  21155.000000\n",
      "mean            69.949374     356.147483     72.861309\n",
      "std             49.659239     157.163702      1.916784\n",
      "min              9.000000       1.000000     68.000000\n",
      "25%             34.000000     252.000000     72.000000\n",
      "50%             55.000000     322.000000     73.000000\n",
      "75%             92.000000     425.000000     74.000000\n",
      "max            711.000000    2405.000000     79.000000\n"
     ]
    },
    {
     "data": {
      "text/html": [
       "<div>\n",
       "<style scoped>\n",
       "    .dataframe tbody tr th:only-of-type {\n",
       "        vertical-align: middle;\n",
       "    }\n",
       "\n",
       "    .dataframe tbody tr th {\n",
       "        vertical-align: top;\n",
       "    }\n",
       "\n",
       "    .dataframe thead th {\n",
       "        text-align: right;\n",
       "    }\n",
       "</style>\n",
       "<table border=\"1\" class=\"dataframe\">\n",
       "  <thead>\n",
       "    <tr style=\"text-align: right;\">\n",
       "      <th></th>\n",
       "      <th>instruction</th>\n",
       "      <th>output</th>\n",
       "      <th>url</th>\n",
       "      <th>instruction_length</th>\n",
       "      <th>output_length</th>\n",
       "      <th>url_length</th>\n",
       "    </tr>\n",
       "  </thead>\n",
       "  <tbody>\n",
       "    <tr>\n",
       "      <th>0</th>\n",
       "      <td>양파는 어떤 식물 부위인가요? 그리고 고구마는 뿌리인가요?</td>\n",
       "      <td>양파는 잎이 아닌 식물의 줄기 부분입니다. 고구마는 식물의 뿌리 부분입니다. \\n\\...</td>\n",
       "      <td>https://kin.naver.com/qna/detail.naver?d1id=11...</td>\n",
       "      <td>32</td>\n",
       "      <td>342</td>\n",
       "      <td>72</td>\n",
       "    </tr>\n",
       "    <tr>\n",
       "      <th>1</th>\n",
       "      <td>스웨터의 유래는 어디에서 시작되었나요?</td>\n",
       "      <td>스웨터의 유래는 14세기경 북유럽항구지역에서 어망을 짜던 기술을 의복에 활용하면서 ...</td>\n",
       "      <td>https://kin.naver.com/qna/detail.naver?d1id=11...</td>\n",
       "      <td>21</td>\n",
       "      <td>288</td>\n",
       "      <td>76</td>\n",
       "    </tr>\n",
       "    <tr>\n",
       "      <th>2</th>\n",
       "      <td>토성의 고리가 빛의 띠로 보이는 이유는 무엇인가요?  \\n\\n토성의 고리는 얼음과 ...</td>\n",
       "      <td>토성의 고리가 미세한 입자들로 이루어져 있기 때문에, 입자들의 밀도 차이 때문에 카...</td>\n",
       "      <td>https://kin.naver.com/qna/detail.naver?d1id=11...</td>\n",
       "      <td>268</td>\n",
       "      <td>524</td>\n",
       "      <td>73</td>\n",
       "    </tr>\n",
       "    <tr>\n",
       "      <th>3</th>\n",
       "      <td>화장품 OEM과 화장품 ODM의 차이점은 무엇인가요?\\n화장품 자체 제조 브랜드 런...</td>\n",
       "      <td>화장품 제조업체는 대체로 OEM과 ODM을 통해 제품을 만듭니다. OEM은 브랜드에...</td>\n",
       "      <td>https://kin.naver.com/qna/detail.naver?d1id=5&amp;...</td>\n",
       "      <td>107</td>\n",
       "      <td>371</td>\n",
       "      <td>75</td>\n",
       "    </tr>\n",
       "    <tr>\n",
       "      <th>4</th>\n",
       "      <td>'사이보그'는 언제 처음 등장한 말이며, 그 의미와 종류에는 어떤 것이 있는지 알고...</td>\n",
       "      <td>'사이보그'는 1960년에 처음 등장한 말로, 기계와 유기체가 합성되어 생겨난 새로...</td>\n",
       "      <td>https://kin.naver.com/qna/detail.naver?d1id=11...</td>\n",
       "      <td>52</td>\n",
       "      <td>438</td>\n",
       "      <td>74</td>\n",
       "    </tr>\n",
       "    <tr>\n",
       "      <th>...</th>\n",
       "      <td>...</td>\n",
       "      <td>...</td>\n",
       "      <td>...</td>\n",
       "      <td>...</td>\n",
       "      <td>...</td>\n",
       "      <td>...</td>\n",
       "    </tr>\n",
       "    <tr>\n",
       "      <th>21150</th>\n",
       "      <td>왕의 우물이란 무엇인가요?</td>\n",
       "      <td>왕의 우물, 즉 왕실에서 쓰던 우물은 어정, 혹은 왕정이라고 부르며 한자로는 御井,...</td>\n",
       "      <td>https://kin.naver.com/qna/detail.naver?d1id=11...</td>\n",
       "      <td>14</td>\n",
       "      <td>204</td>\n",
       "      <td>74</td>\n",
       "    </tr>\n",
       "    <tr>\n",
       "      <th>21151</th>\n",
       "      <td>한 달의 첫째 주가 어떻게 정의되는가?\\n매달 첫째주가 되는 기준은 무엇인지 궁금합...</td>\n",
       "      <td>한 주의 시작이 일요일인지 월요일인지에 따라 첫째 주를 정의해야 합니다. 영어권에서...</td>\n",
       "      <td>https://kin.naver.com/qna/detail.naver?d1id=6&amp;...</td>\n",
       "      <td>94</td>\n",
       "      <td>301</td>\n",
       "      <td>73</td>\n",
       "    </tr>\n",
       "    <tr>\n",
       "      <th>21152</th>\n",
       "      <td>산모와 태아가 혈액형이 다를 때 문제가 없는 이유는 무엇인가요?</td>\n",
       "      <td>산모와 태아가 탯줄과 태반을 통해 직접적으로 혈액을 교환하지 않고, 산모의 태반에서...</td>\n",
       "      <td>https://kin.naver.com/qna/detail.naver?d1id=7&amp;...</td>\n",
       "      <td>35</td>\n",
       "      <td>415</td>\n",
       "      <td>70</td>\n",
       "    </tr>\n",
       "    <tr>\n",
       "      <th>21153</th>\n",
       "      <td>의자의 쇠 부분을 만지면 왜 정전기가 발생할까요?</td>\n",
       "      <td>의자의 쇠 부분을 만지면 정전기가 발생하는 이유는 의자가 땅에서 절연되어 있기 때문...</td>\n",
       "      <td>https://kin.naver.com/qna/detail.naver?d1id=11...</td>\n",
       "      <td>27</td>\n",
       "      <td>396</td>\n",
       "      <td>73</td>\n",
       "    </tr>\n",
       "    <tr>\n",
       "      <th>21154</th>\n",
       "      <td>캔 우유가 없는 이유는 무엇인가요?</td>\n",
       "      <td>캔 우유가 없어진 이유는 유통과 보관에서 발생하는 문제와 우유에 포함된 미네랄 성분...</td>\n",
       "      <td>https://kin.naver.com/qna/detail.naver?d1id=13...</td>\n",
       "      <td>19</td>\n",
       "      <td>297</td>\n",
       "      <td>75</td>\n",
       "    </tr>\n",
       "  </tbody>\n",
       "</table>\n",
       "<p>21155 rows × 6 columns</p>\n",
       "</div>"
      ],
      "text/plain": [
       "                                             instruction  \\\n",
       "0                       양파는 어떤 식물 부위인가요? 그리고 고구마는 뿌리인가요?   \n",
       "1                                  스웨터의 유래는 어디에서 시작되었나요?   \n",
       "2      토성의 고리가 빛의 띠로 보이는 이유는 무엇인가요?  \\n\\n토성의 고리는 얼음과 ...   \n",
       "3      화장품 OEM과 화장품 ODM의 차이점은 무엇인가요?\\n화장품 자체 제조 브랜드 런...   \n",
       "4      '사이보그'는 언제 처음 등장한 말이며, 그 의미와 종류에는 어떤 것이 있는지 알고...   \n",
       "...                                                  ...   \n",
       "21150                                     왕의 우물이란 무엇인가요?   \n",
       "21151  한 달의 첫째 주가 어떻게 정의되는가?\\n매달 첫째주가 되는 기준은 무엇인지 궁금합...   \n",
       "21152                산모와 태아가 혈액형이 다를 때 문제가 없는 이유는 무엇인가요?   \n",
       "21153                        의자의 쇠 부분을 만지면 왜 정전기가 발생할까요?   \n",
       "21154                                캔 우유가 없는 이유는 무엇인가요?   \n",
       "\n",
       "                                                  output  \\\n",
       "0      양파는 잎이 아닌 식물의 줄기 부분입니다. 고구마는 식물의 뿌리 부분입니다. \\n\\...   \n",
       "1      스웨터의 유래는 14세기경 북유럽항구지역에서 어망을 짜던 기술을 의복에 활용하면서 ...   \n",
       "2      토성의 고리가 미세한 입자들로 이루어져 있기 때문에, 입자들의 밀도 차이 때문에 카...   \n",
       "3      화장품 제조업체는 대체로 OEM과 ODM을 통해 제품을 만듭니다. OEM은 브랜드에...   \n",
       "4      '사이보그'는 1960년에 처음 등장한 말로, 기계와 유기체가 합성되어 생겨난 새로...   \n",
       "...                                                  ...   \n",
       "21150  왕의 우물, 즉 왕실에서 쓰던 우물은 어정, 혹은 왕정이라고 부르며 한자로는 御井,...   \n",
       "21151  한 주의 시작이 일요일인지 월요일인지에 따라 첫째 주를 정의해야 합니다. 영어권에서...   \n",
       "21152  산모와 태아가 탯줄과 태반을 통해 직접적으로 혈액을 교환하지 않고, 산모의 태반에서...   \n",
       "21153  의자의 쇠 부분을 만지면 정전기가 발생하는 이유는 의자가 땅에서 절연되어 있기 때문...   \n",
       "21154  캔 우유가 없어진 이유는 유통과 보관에서 발생하는 문제와 우유에 포함된 미네랄 성분...   \n",
       "\n",
       "                                                     url  instruction_length  \\\n",
       "0      https://kin.naver.com/qna/detail.naver?d1id=11...                  32   \n",
       "1      https://kin.naver.com/qna/detail.naver?d1id=11...                  21   \n",
       "2      https://kin.naver.com/qna/detail.naver?d1id=11...                 268   \n",
       "3      https://kin.naver.com/qna/detail.naver?d1id=5&...                 107   \n",
       "4      https://kin.naver.com/qna/detail.naver?d1id=11...                  52   \n",
       "...                                                  ...                 ...   \n",
       "21150  https://kin.naver.com/qna/detail.naver?d1id=11...                  14   \n",
       "21151  https://kin.naver.com/qna/detail.naver?d1id=6&...                  94   \n",
       "21152  https://kin.naver.com/qna/detail.naver?d1id=7&...                  35   \n",
       "21153  https://kin.naver.com/qna/detail.naver?d1id=11...                  27   \n",
       "21154  https://kin.naver.com/qna/detail.naver?d1id=13...                  19   \n",
       "\n",
       "       output_length  url_length  \n",
       "0                342          72  \n",
       "1                288          76  \n",
       "2                524          73  \n",
       "3                371          75  \n",
       "4                438          74  \n",
       "...              ...         ...  \n",
       "21150            204          74  \n",
       "21151            301          73  \n",
       "21152            415          70  \n",
       "21153            396          73  \n",
       "21154            297          75  \n",
       "\n",
       "[21155 rows x 6 columns]"
      ]
     },
     "execution_count": 7,
     "metadata": {},
     "output_type": "execute_result"
    }
   ],
   "source": [
    "# 문장 길이, 단어 수 등 기본 통계량 계산\n",
    "df['instruction_length'] = df['instruction'].apply(len)\n",
    "df['output_length'] = df['output'].apply(len)\n",
    "df['url_length'] = df['url'].apply(len)\n",
    "print(df.describe())\n",
    "df"
   ]
  },
  {
   "cell_type": "markdown",
   "id": "a743f803",
   "metadata": {},
   "source": [
    "### 문장 길이, 단어 빈도 등을 시각화"
   ]
  },
  {
   "cell_type": "code",
   "execution_count": 8,
   "id": "ed0c174e",
   "metadata": {
    "tags": []
   },
   "outputs": [
    {
     "data": {
      "image/png": "[encoded data removed]",
      "text/plain": [
       "<Figure size 640x480 with 1 Axes>"
      ]
     },
     "metadata": {},
     "output_type": "display_data"
    }
   ],
   "source": [
    "import matplotlib.pyplot as plt\n",
    "\n",
    "# 문장 길이 분포 시각화\n",
    "plt.hist(df['instruction_length'], bins=50, alpha=0.5, label='Instruction Length')\n",
    "plt.hist(df['url_length'], bins=50, alpha=0.5, label='url length')\n",
    "plt.hist(df['output_length'], bins=50, alpha=0.5, label='Output Length')\n",
    "plt.legend(loc='upper right')\n",
    "plt.show()"
   ]
  },
  {
   "cell_type": "markdown",
   "id": "529d27e7",
   "metadata": {},
   "source": [
    "### 고유 단어 및 빈도수 분석"
   ]
  },
  {
   "cell_type": "code",
   "execution_count": 9,
   "id": "6549ea09",
   "metadata": {
    "tags": []
   },
   "outputs": [
    {
     "name": "stdout",
     "output_type": "stream",
     "text": [
      "가장 자주 등장하는 단어 10개 :  [('무엇인가요?', 6489), ('왜', 5465), ('어떤', 4402), ('궁금합니다.', 3568), ('어떻게', 3438), ('수', 3026), ('이유는', 2633), ('있는', 2286), ('있을까요?', 2265), ('있나요?', 1991)]\n",
      "\n",
      "\n",
      "가장 드물게 등장하는 단어 10개 :  [('산모와', 1), ('과반수', 1), ('첫째주가', 1), ('정의되는가?', 1), ('우물이란', 1), ('구사하는', 1), ('충주만큼', 1), ('전국팔도에서도', 1), ('충주는', 1), ('옆비늘을', 1)]\n"
     ]
    }
   ],
   "source": [
    "from collections import Counter\n",
    "\n",
    "# 모든 문장을 단어로 분리\n",
    "all_words = ' '.join(df['instruction']).split()\n",
    "\n",
    "# 단어 빈도수 계산\n",
    "word_freq = Counter(all_words)\n",
    "\n",
    "# 가장 자주 등장하는 단어 10개\n",
    "print('가장 자주 등장하는 단어 10개 : ', word_freq.most_common(10))\n",
    "print('\\n')\n",
    "# 가장 드물게 등장하는 단어 10개\n",
    "print('가장 드물게 등장하는 단어 10개 : ', word_freq.most_common()[:-11:-1])\n"
   ]
  },
  {
   "cell_type": "markdown",
   "id": "1b68e8b5-2bc1-47c3-9f6f-4db9f3ddd6f8",
   "metadata": {},
   "source": [
    "<br>\n",
    "\n",
    "## 2. Chunk\n",
    "---\n",
    "\n",
    "**정의**: 청킹은 비구조화된 텍스트에서 구(phrase)나 \"청크\"를 추출하는 과정입니다. 토큰화가 텍스트를 개별 단어로 분할하는 반면, 청킹은 의미 있는 구나 문법 단위(예: 명사구, 동사구)를 추출하는 것을 목표로 합니다.\n",
    "\n",
    "**사용 사례**: \n",
    "- 명명된 엔터티 인식 (NER)\n",
    "- 관계 추출\n",
    "- 대용어 해소\n",
    "\n",
    "**예시**: \n",
    "```text\n",
    "입력: \"빠른 갈색 여우가 게으른 개를 뛰어넘습니다.\"\n",
    "청크: [(\"빠른 갈색 여우가\", \"NP\"), (\"뛰어넘습니다\", \"VP\"), (\"게으른 개를\", \"NP\")]\n",
    "```\n",
    "\n",
    "**장점**:\n",
    "- 토큰화에 비해 더 많은 문맥과 의미적 의미를 유지\n",
    "- 텍스트 구조를 이해해야 하는 복잡한 NLP 작업에 유용\n",
    "\n",
    "**단점**:\n",
    "- 계산적으로 더 복잡\n",
    "- 더 정교한 알고리즘 또는 모델이 필요할 수 있음\n",
    "\n",
    "---\n",
    "\n",
    "토큰화와 청킹은 모두 텍스트 분할을 위한 기술이지만, 다른 목적을 가지고 있으며 다른 NLP 작업에 유용합니다. 토큰화는 일반적으로 더 단순하고 빠르지만, 청킹은 더 깊은 이해를 제공합니다. 또한, 토큰화는 텍스트를 가장 작은 단위로 나누는 과정이며, 청킹은 이러한 토큰을 묶어서 더 큰 의미나 구조를 가진 단위로 만드는 과정입니다.\n"
   ]
  },
  {
   "cell_type": "code",
   "execution_count": 10,
   "id": "7a492cfc-8402-4fb1-8fe3-3b27c64c5c35",
   "metadata": {
    "tags": []
   },
   "outputs": [],
   "source": [
    "from random import randint\n",
    "from itertools import chain\n",
    "from functools import partial\n",
    "\n",
    "# template dataset to add prompt to each sample\n",
    "def template_dataset(data_point):\n",
    "    full_prompt = prompter.generate_prompt(\n",
    "        data_point[\"instruction\"],\n",
    "        data_point.get(\"input\"),\n",
    "        data_point[\"output\"],\n",
    "    )\n",
    "    data_point['text'] = full_prompt\n",
    "    return data_point\n",
    "\n",
    "def chunk(sample, chunk_length=2048):\n",
    "    # define global remainder variable to save remainder from batches to use in next batch\n",
    "    global remainder\n",
    "    # Concatenate all texts and add remainder from previous batch\n",
    "    concatenated_examples = {k: list(chain(*sample[k])) for k in sample.keys()}\n",
    "    concatenated_examples = {k: remainder[k] + concatenated_examples[k] for k in concatenated_examples.keys()}\n",
    "    # get total number of tokens for batch\n",
    "    batch_total_length = len(concatenated_examples[list(sample.keys())[0]])\n",
    "\n",
    "    # get max number of chunks for batch\n",
    "    if batch_total_length >= chunk_length:\n",
    "        batch_chunk_length = (batch_total_length // chunk_length) * chunk_length\n",
    "\n",
    "    # Split by chunks of max_len.\n",
    "    result = {\n",
    "        k: [t[i : i + chunk_length] for i in range(0, batch_chunk_length, chunk_length)]\n",
    "        for k, t in concatenated_examples.items()\n",
    "    }\n",
    "    # add remainder to global variable for next batch\n",
    "    remainder = {k: concatenated_examples[k][batch_chunk_length:] for k in concatenated_examples.keys()}\n",
    "    # prepare labels\n",
    "    result[\"labels\"] = result[\"input_ids\"].copy()\n",
    "    return result\n"
   ]
  },
  {
   "cell_type": "code",
   "execution_count": 11,
   "id": "b870f0e1-eab7-45db-bd59-3bd5c9c19394",
   "metadata": {
    "tags": []
   },
   "outputs": [
    {
     "data": {
      "application/vnd.jupyter.widget-view+json": {
       "model_id": "714b28d71af341c48bcd4f3202ba41e9",
       "version_major": 2,
       "version_minor": 0
      },
      "text/plain": [
       "Map:   0%|          | 0/21155 [00:00<?, ? examples/s]"
      ]
     },
     "metadata": {},
     "output_type": "display_data"
    },
    {
     "data": {
      "application/vnd.jupyter.widget-view+json": {
       "model_id": "b0739f0ce7e149e8948ac12fff2ed877",
       "version_major": 2,
       "version_minor": 0
      },
      "text/plain": [
       "Map:   0%|          | 0/21155 [00:00<?, ? examples/s]"
      ]
     },
     "metadata": {},
     "output_type": "display_data"
    },
    {
     "data": {
      "application/vnd.jupyter.widget-view+json": {
       "model_id": "e824f9175d6e4c0a97864500072c7e73",
       "version_major": 2,
       "version_minor": 0
      },
      "text/plain": [
       "Map:   0%|          | 0/21155 [00:00<?, ? examples/s]"
      ]
     },
     "metadata": {},
     "output_type": "display_data"
    },
    {
     "name": "stdout",
     "output_type": "stream",
     "text": [
      "Total number of samples: 3586\n"
     ]
    }
   ],
   "source": [
    "dataset = data['train'].shuffle()#.select(range(200))\n",
    "dataset = dataset.map(template_dataset, remove_columns=list(dataset.features))\n",
    "\n",
    "# empty list to save remainder from batches to use in next batch\n",
    "remainder = {\"input_ids\": [], \"attention_mask\": []}\n",
    "\n",
    "# tokenize and chunk dataset\n",
    "lm_dataset = dataset.map(\n",
    "    lambda sample: tokenizer(sample[\"text\"]), batched=True, remove_columns=list(dataset.features)\n",
    ").map(\n",
    "    partial(chunk, chunk_length=1536),\n",
    "    batched=True,\n",
    ")\n",
    "\n",
    "# Print total number of samples\n",
    "print(f\"Total number of samples: {len(lm_dataset)}\")"
   ]
  },
  {
   "cell_type": "markdown",
   "id": "0533d4e0",
   "metadata": {},
   "source": [
    "## chunking data 확인"
   ]
  },
  {
   "cell_type": "code",
   "execution_count": 12,
   "id": "6b8417c4",
   "metadata": {
    "tags": []
   },
   "outputs": [
    {
     "data": {
      "text/html": [
       "<div>\n",
       "<style scoped>\n",
       "    .dataframe tbody tr th:only-of-type {\n",
       "        vertical-align: middle;\n",
       "    }\n",
       "\n",
       "    .dataframe tbody tr th {\n",
       "        vertical-align: top;\n",
       "    }\n",
       "\n",
       "    .dataframe thead th {\n",
       "        text-align: right;\n",
       "    }\n",
       "</style>\n",
       "<table border=\"1\" class=\"dataframe\">\n",
       "  <thead>\n",
       "    <tr style=\"text-align: right;\">\n",
       "      <th></th>\n",
       "      <th>input_ids</th>\n",
       "      <th>attention_mask</th>\n",
       "      <th>labels</th>\n",
       "    </tr>\n",
       "  </thead>\n",
       "  <tbody>\n",
       "    <tr>\n",
       "      <th>0</th>\n",
       "      <td>[12657, 272, 2236, 276, 1251, 284, 272, 5026, ...</td>\n",
       "      <td>[1, 1, 1, 1, 1, 1, 1, 1, 1, 1, 1, 1, 1, 1, 1, ...</td>\n",
       "      <td>[12657, 272, 2236, 276, 1251, 284, 272, 5026, ...</td>\n",
       "    </tr>\n",
       "    <tr>\n",
       "      <th>1</th>\n",
       "      <td>[2802, 17, 1146, 635, 3155, 1199, 656, 270, 55...</td>\n",
       "      <td>[1, 1, 1, 1, 1, 1, 1, 1, 1, 1, 1, 1, 1, 1, 1, ...</td>\n",
       "      <td>[2802, 17, 1146, 635, 3155, 1199, 656, 270, 55...</td>\n",
       "    </tr>\n",
       "    <tr>\n",
       "      <th>2</th>\n",
       "      <td>[272, 1083, 379, 10309, 4937, 11, 8178, 407, 4...</td>\n",
       "      <td>[1, 1, 1, 1, 1, 1, 1, 1, 1, 1, 1, 1, 1, 1, 1, ...</td>\n",
       "      <td>[272, 1083, 379, 10309, 4937, 11, 8178, 407, 4...</td>\n",
       "    </tr>\n",
       "    <tr>\n",
       "      <th>3</th>\n",
       "      <td>[17, 8611, 363, 514, 3030, 650, 23496, 10, 296...</td>\n",
       "      <td>[1, 1, 1, 1, 1, 1, 1, 1, 1, 1, 1, 1, 1, 1, 1, ...</td>\n",
       "      <td>[17, 8611, 363, 514, 3030, 650, 23496, 10, 296...</td>\n",
       "    </tr>\n",
       "    <tr>\n",
       "      <th>4</th>\n",
       "      <td>[339, 8703, 378, 15, 521, 417, 285, 7521, 274,...</td>\n",
       "      <td>[1, 1, 1, 1, 1, 1, 1, 1, 1, 1, 1, 1, 1, 1, 1, ...</td>\n",
       "      <td>[339, 8703, 378, 15, 521, 417, 285, 7521, 274,...</td>\n",
       "    </tr>\n",
       "    <tr>\n",
       "      <th>...</th>\n",
       "      <td>...</td>\n",
       "      <td>...</td>\n",
       "      <td>...</td>\n",
       "    </tr>\n",
       "    <tr>\n",
       "      <th>3581</th>\n",
       "      <td>[283, 5, 441, 490, 1730, 283, 5, 469, 1839, 38...</td>\n",
       "      <td>[1, 1, 1, 1, 1, 1, 1, 1, 1, 1, 1, 1, 1, 1, 1, ...</td>\n",
       "      <td>[283, 5, 441, 490, 1730, 283, 5, 469, 1839, 38...</td>\n",
       "    </tr>\n",
       "    <tr>\n",
       "      <th>3582</th>\n",
       "      <td>[15, 579, 866, 425, 433, 2345, 6491, 301, 1112...</td>\n",
       "      <td>[1, 1, 1, 1, 1, 1, 1, 1, 1, 1, 1, 1, 1, 1, 1, ...</td>\n",
       "      <td>[15, 579, 866, 425, 433, 2345, 6491, 301, 1112...</td>\n",
       "    </tr>\n",
       "    <tr>\n",
       "      <th>3583</th>\n",
       "      <td>[270, 1511, 2440, 11315, 339, 740, 348, 1434, ...</td>\n",
       "      <td>[1, 1, 1, 1, 1, 1, 1, 1, 1, 1, 1, 1, 1, 1, 1, ...</td>\n",
       "      <td>[270, 1511, 2440, 11315, 339, 740, 348, 1434, ...</td>\n",
       "    </tr>\n",
       "    <tr>\n",
       "      <th>3584</th>\n",
       "      <td>[301, 6759, 379, 547, 424, 295, 536, 827, 17, ...</td>\n",
       "      <td>[1, 1, 1, 1, 1, 1, 1, 1, 1, 1, 1, 1, 1, 1, 1, ...</td>\n",
       "      <td>[301, 6759, 379, 547, 424, 295, 536, 827, 17, ...</td>\n",
       "    </tr>\n",
       "    <tr>\n",
       "      <th>3585</th>\n",
       "      <td>[3734, 293, 740, 1281, 15, 2274, 1108, 5176, 2...</td>\n",
       "      <td>[1, 1, 1, 1, 1, 1, 1, 1, 1, 1, 1, 1, 1, 1, 1, ...</td>\n",
       "      <td>[3734, 293, 740, 1281, 15, 2274, 1108, 5176, 2...</td>\n",
       "    </tr>\n",
       "  </tbody>\n",
       "</table>\n",
       "<p>3586 rows × 3 columns</p>\n",
       "</div>"
      ],
      "text/plain": [
       "                                              input_ids  \\\n",
       "0     [12657, 272, 2236, 276, 1251, 284, 272, 5026, ...   \n",
       "1     [2802, 17, 1146, 635, 3155, 1199, 656, 270, 55...   \n",
       "2     [272, 1083, 379, 10309, 4937, 11, 8178, 407, 4...   \n",
       "3     [17, 8611, 363, 514, 3030, 650, 23496, 10, 296...   \n",
       "4     [339, 8703, 378, 15, 521, 417, 285, 7521, 274,...   \n",
       "...                                                 ...   \n",
       "3581  [283, 5, 441, 490, 1730, 283, 5, 469, 1839, 38...   \n",
       "3582  [15, 579, 866, 425, 433, 2345, 6491, 301, 1112...   \n",
       "3583  [270, 1511, 2440, 11315, 339, 740, 348, 1434, ...   \n",
       "3584  [301, 6759, 379, 547, 424, 295, 536, 827, 17, ...   \n",
       "3585  [3734, 293, 740, 1281, 15, 2274, 1108, 5176, 2...   \n",
       "\n",
       "                                         attention_mask  \\\n",
       "0     [1, 1, 1, 1, 1, 1, 1, 1, 1, 1, 1, 1, 1, 1, 1, ...   \n",
       "1     [1, 1, 1, 1, 1, 1, 1, 1, 1, 1, 1, 1, 1, 1, 1, ...   \n",
       "2     [1, 1, 1, 1, 1, 1, 1, 1, 1, 1, 1, 1, 1, 1, 1, ...   \n",
       "3     [1, 1, 1, 1, 1, 1, 1, 1, 1, 1, 1, 1, 1, 1, 1, ...   \n",
       "4     [1, 1, 1, 1, 1, 1, 1, 1, 1, 1, 1, 1, 1, 1, 1, ...   \n",
       "...                                                 ...   \n",
       "3581  [1, 1, 1, 1, 1, 1, 1, 1, 1, 1, 1, 1, 1, 1, 1, ...   \n",
       "3582  [1, 1, 1, 1, 1, 1, 1, 1, 1, 1, 1, 1, 1, 1, 1, ...   \n",
       "3583  [1, 1, 1, 1, 1, 1, 1, 1, 1, 1, 1, 1, 1, 1, 1, ...   \n",
       "3584  [1, 1, 1, 1, 1, 1, 1, 1, 1, 1, 1, 1, 1, 1, 1, ...   \n",
       "3585  [1, 1, 1, 1, 1, 1, 1, 1, 1, 1, 1, 1, 1, 1, 1, ...   \n",
       "\n",
       "                                                 labels  \n",
       "0     [12657, 272, 2236, 276, 1251, 284, 272, 5026, ...  \n",
       "1     [2802, 17, 1146, 635, 3155, 1199, 656, 270, 55...  \n",
       "2     [272, 1083, 379, 10309, 4937, 11, 8178, 407, 4...  \n",
       "3     [17, 8611, 363, 514, 3030, 650, 23496, 10, 296...  \n",
       "4     [339, 8703, 378, 15, 521, 417, 285, 7521, 274,...  \n",
       "...                                                 ...  \n",
       "3581  [283, 5, 441, 490, 1730, 283, 5, 469, 1839, 38...  \n",
       "3582  [15, 579, 866, 425, 433, 2345, 6491, 301, 1112...  \n",
       "3583  [270, 1511, 2440, 11315, 339, 740, 348, 1434, ...  \n",
       "3584  [301, 6759, 379, 547, 424, 295, 536, 827, 17, ...  \n",
       "3585  [3734, 293, 740, 1281, 15, 2274, 1108, 5176, 2...  \n",
       "\n",
       "[3586 rows x 3 columns]"
      ]
     },
     "execution_count": 12,
     "metadata": {},
     "output_type": "execute_result"
    }
   ],
   "source": [
    "df_lm = lm_dataset.to_pandas()\n",
    "df_lm"
   ]
  },
  {
   "cell_type": "code",
   "execution_count": 13,
   "id": "7e391f73",
   "metadata": {
    "tags": []
   },
   "outputs": [
    {
     "data": {
      "text/html": [
       "<div>\n",
       "<style scoped>\n",
       "    .dataframe tbody tr th:only-of-type {\n",
       "        vertical-align: middle;\n",
       "    }\n",
       "\n",
       "    .dataframe tbody tr th {\n",
       "        vertical-align: top;\n",
       "    }\n",
       "\n",
       "    .dataframe thead th {\n",
       "        text-align: right;\n",
       "    }\n",
       "</style>\n",
       "<table border=\"1\" class=\"dataframe\">\n",
       "  <thead>\n",
       "    <tr style=\"text-align: right;\">\n",
       "      <th></th>\n",
       "      <th>input_ids</th>\n",
       "      <th>attention_mask</th>\n",
       "      <th>labels</th>\n",
       "      <th>input_ids_length</th>\n",
       "    </tr>\n",
       "  </thead>\n",
       "  <tbody>\n",
       "    <tr>\n",
       "      <th>0</th>\n",
       "      <td>[12657, 272, 2236, 276, 1251, 284, 272, 5026, ...</td>\n",
       "      <td>[1, 1, 1, 1, 1, 1, 1, 1, 1, 1, 1, 1, 1, 1, 1, ...</td>\n",
       "      <td>[12657, 272, 2236, 276, 1251, 284, 272, 5026, ...</td>\n",
       "      <td>1536</td>\n",
       "    </tr>\n",
       "    <tr>\n",
       "      <th>1</th>\n",
       "      <td>[2802, 17, 1146, 635, 3155, 1199, 656, 270, 55...</td>\n",
       "      <td>[1, 1, 1, 1, 1, 1, 1, 1, 1, 1, 1, 1, 1, 1, 1, ...</td>\n",
       "      <td>[2802, 17, 1146, 635, 3155, 1199, 656, 270, 55...</td>\n",
       "      <td>1536</td>\n",
       "    </tr>\n",
       "    <tr>\n",
       "      <th>2</th>\n",
       "      <td>[272, 1083, 379, 10309, 4937, 11, 8178, 407, 4...</td>\n",
       "      <td>[1, 1, 1, 1, 1, 1, 1, 1, 1, 1, 1, 1, 1, 1, 1, ...</td>\n",
       "      <td>[272, 1083, 379, 10309, 4937, 11, 8178, 407, 4...</td>\n",
       "      <td>1536</td>\n",
       "    </tr>\n",
       "    <tr>\n",
       "      <th>3</th>\n",
       "      <td>[17, 8611, 363, 514, 3030, 650, 23496, 10, 296...</td>\n",
       "      <td>[1, 1, 1, 1, 1, 1, 1, 1, 1, 1, 1, 1, 1, 1, 1, ...</td>\n",
       "      <td>[17, 8611, 363, 514, 3030, 650, 23496, 10, 296...</td>\n",
       "      <td>1536</td>\n",
       "    </tr>\n",
       "    <tr>\n",
       "      <th>4</th>\n",
       "      <td>[339, 8703, 378, 15, 521, 417, 285, 7521, 274,...</td>\n",
       "      <td>[1, 1, 1, 1, 1, 1, 1, 1, 1, 1, 1, 1, 1, 1, 1, ...</td>\n",
       "      <td>[339, 8703, 378, 15, 521, 417, 285, 7521, 274,...</td>\n",
       "      <td>1536</td>\n",
       "    </tr>\n",
       "    <tr>\n",
       "      <th>...</th>\n",
       "      <td>...</td>\n",
       "      <td>...</td>\n",
       "      <td>...</td>\n",
       "      <td>...</td>\n",
       "    </tr>\n",
       "    <tr>\n",
       "      <th>3581</th>\n",
       "      <td>[283, 5, 441, 490, 1730, 283, 5, 469, 1839, 38...</td>\n",
       "      <td>[1, 1, 1, 1, 1, 1, 1, 1, 1, 1, 1, 1, 1, 1, 1, ...</td>\n",
       "      <td>[283, 5, 441, 490, 1730, 283, 5, 469, 1839, 38...</td>\n",
       "      <td>1536</td>\n",
       "    </tr>\n",
       "    <tr>\n",
       "      <th>3582</th>\n",
       "      <td>[15, 579, 866, 425, 433, 2345, 6491, 301, 1112...</td>\n",
       "      <td>[1, 1, 1, 1, 1, 1, 1, 1, 1, 1, 1, 1, 1, 1, 1, ...</td>\n",
       "      <td>[15, 579, 866, 425, 433, 2345, 6491, 301, 1112...</td>\n",
       "      <td>1536</td>\n",
       "    </tr>\n",
       "    <tr>\n",
       "      <th>3583</th>\n",
       "      <td>[270, 1511, 2440, 11315, 339, 740, 348, 1434, ...</td>\n",
       "      <td>[1, 1, 1, 1, 1, 1, 1, 1, 1, 1, 1, 1, 1, 1, 1, ...</td>\n",
       "      <td>[270, 1511, 2440, 11315, 339, 740, 348, 1434, ...</td>\n",
       "      <td>1536</td>\n",
       "    </tr>\n",
       "    <tr>\n",
       "      <th>3584</th>\n",
       "      <td>[301, 6759, 379, 547, 424, 295, 536, 827, 17, ...</td>\n",
       "      <td>[1, 1, 1, 1, 1, 1, 1, 1, 1, 1, 1, 1, 1, 1, 1, ...</td>\n",
       "      <td>[301, 6759, 379, 547, 424, 295, 536, 827, 17, ...</td>\n",
       "      <td>1536</td>\n",
       "    </tr>\n",
       "    <tr>\n",
       "      <th>3585</th>\n",
       "      <td>[3734, 293, 740, 1281, 15, 2274, 1108, 5176, 2...</td>\n",
       "      <td>[1, 1, 1, 1, 1, 1, 1, 1, 1, 1, 1, 1, 1, 1, 1, ...</td>\n",
       "      <td>[3734, 293, 740, 1281, 15, 2274, 1108, 5176, 2...</td>\n",
       "      <td>1536</td>\n",
       "    </tr>\n",
       "  </tbody>\n",
       "</table>\n",
       "<p>3586 rows × 4 columns</p>\n",
       "</div>"
      ],
      "text/plain": [
       "                                              input_ids  \\\n",
       "0     [12657, 272, 2236, 276, 1251, 284, 272, 5026, ...   \n",
       "1     [2802, 17, 1146, 635, 3155, 1199, 656, 270, 55...   \n",
       "2     [272, 1083, 379, 10309, 4937, 11, 8178, 407, 4...   \n",
       "3     [17, 8611, 363, 514, 3030, 650, 23496, 10, 296...   \n",
       "4     [339, 8703, 378, 15, 521, 417, 285, 7521, 274,...   \n",
       "...                                                 ...   \n",
       "3581  [283, 5, 441, 490, 1730, 283, 5, 469, 1839, 38...   \n",
       "3582  [15, 579, 866, 425, 433, 2345, 6491, 301, 1112...   \n",
       "3583  [270, 1511, 2440, 11315, 339, 740, 348, 1434, ...   \n",
       "3584  [301, 6759, 379, 547, 424, 295, 536, 827, 17, ...   \n",
       "3585  [3734, 293, 740, 1281, 15, 2274, 1108, 5176, 2...   \n",
       "\n",
       "                                         attention_mask  \\\n",
       "0     [1, 1, 1, 1, 1, 1, 1, 1, 1, 1, 1, 1, 1, 1, 1, ...   \n",
       "1     [1, 1, 1, 1, 1, 1, 1, 1, 1, 1, 1, 1, 1, 1, 1, ...   \n",
       "2     [1, 1, 1, 1, 1, 1, 1, 1, 1, 1, 1, 1, 1, 1, 1, ...   \n",
       "3     [1, 1, 1, 1, 1, 1, 1, 1, 1, 1, 1, 1, 1, 1, 1, ...   \n",
       "4     [1, 1, 1, 1, 1, 1, 1, 1, 1, 1, 1, 1, 1, 1, 1, ...   \n",
       "...                                                 ...   \n",
       "3581  [1, 1, 1, 1, 1, 1, 1, 1, 1, 1, 1, 1, 1, 1, 1, ...   \n",
       "3582  [1, 1, 1, 1, 1, 1, 1, 1, 1, 1, 1, 1, 1, 1, 1, ...   \n",
       "3583  [1, 1, 1, 1, 1, 1, 1, 1, 1, 1, 1, 1, 1, 1, 1, ...   \n",
       "3584  [1, 1, 1, 1, 1, 1, 1, 1, 1, 1, 1, 1, 1, 1, 1, ...   \n",
       "3585  [1, 1, 1, 1, 1, 1, 1, 1, 1, 1, 1, 1, 1, 1, 1, ...   \n",
       "\n",
       "                                                 labels  input_ids_length  \n",
       "0     [12657, 272, 2236, 276, 1251, 284, 272, 5026, ...              1536  \n",
       "1     [2802, 17, 1146, 635, 3155, 1199, 656, 270, 55...              1536  \n",
       "2     [272, 1083, 379, 10309, 4937, 11, 8178, 407, 4...              1536  \n",
       "3     [17, 8611, 363, 514, 3030, 650, 23496, 10, 296...              1536  \n",
       "4     [339, 8703, 378, 15, 521, 417, 285, 7521, 274,...              1536  \n",
       "...                                                 ...               ...  \n",
       "3581  [283, 5, 441, 490, 1730, 283, 5, 469, 1839, 38...              1536  \n",
       "3582  [15, 579, 866, 425, 433, 2345, 6491, 301, 1112...              1536  \n",
       "3583  [270, 1511, 2440, 11315, 339, 740, 348, 1434, ...              1536  \n",
       "3584  [301, 6759, 379, 547, 424, 295, 536, 827, 17, ...              1536  \n",
       "3585  [3734, 293, 740, 1281, 15, 2274, 1108, 5176, 2...              1536  \n",
       "\n",
       "[3586 rows x 4 columns]"
      ]
     },
     "execution_count": 13,
     "metadata": {},
     "output_type": "execute_result"
    }
   ],
   "source": [
    "# 'input_ids' 칼럼의 각 벡터의 길이를 새로운 칼럼 'input_ids_length'에 저장\n",
    "df_lm['input_ids_length'] = df_lm['input_ids'].apply(len)\n",
    "\n",
    "# 새로운 칼럼을 확인\n",
    "df_lm"
   ]
  },
  {
   "cell_type": "markdown",
   "id": "e225165b",
   "metadata": {},
   "source": [
    "#### chunking 벡터의 최대 길이는 설정한 chunk_length windowing size로 고정됨"
   ]
  },
  {
   "cell_type": "code",
   "execution_count": 14,
   "id": "866fda1c",
   "metadata": {
    "tags": []
   },
   "outputs": [
    {
     "name": "stdout",
     "output_type": "stream",
     "text": [
      "The maximum length of 'input_ids' is 1536\n"
     ]
    }
   ],
   "source": [
    "# 'input_ids_length' 칼럼의 최대값을 확인\n",
    "max_value = df_lm['input_ids_length'].max()\n",
    "\n",
    "print(f\"The maximum length of 'input_ids' is {max_value}\")"
   ]
  },
  {
   "cell_type": "markdown",
   "id": "cc49f3f1-bca8-4472-b491-40849970ed90",
   "metadata": {},
   "source": [
    "<br>\n",
    "\n",
    "## 3. Save dataset to S3\n",
    "---"
   ]
  },
  {
   "cell_type": "code",
   "execution_count": 15,
   "id": "e1328ad7-c912-4da5-a905-2859e2276cfc",
   "metadata": {
    "tags": []
   },
   "outputs": [
    {
     "name": "stdout",
     "output_type": "stream",
     "text": [
      "SageMaker role arn: arn:aws:iam::143656149352:role/service-role/AmazonSageMaker-ExecutionRole-20220317T150353\n",
      "SageMaker bucket: sagemaker-us-east-1-143656149352\n",
      "SageMaker session region: us-east-1\n"
     ]
    }
   ],
   "source": [
    "import sagemaker\n",
    "import boto3\n",
    "sess = sagemaker.Session()\n",
    "region = boto3.Session().region_name\n",
    "# sagemaker session bucket -> used for uploading data, models and logs\n",
    "# sagemaker will automatically create this bucket if it not exists\n",
    "bucket = None\n",
    "if bucket is None and sess is not None:\n",
    "    # set to default bucket if a bucket name is not given\n",
    "    bucket = sess.default_bucket()\n",
    "\n",
    "try:\n",
    "    role = sagemaker.get_execution_role()\n",
    "except ValueError:\n",
    "    iam = boto3.client('iam')\n",
    "    role = iam.get_role(RoleName='sagemaker_execution_role')['Role']['Arn']\n",
    "\n",
    "sess = sagemaker.Session(default_bucket=bucket)\n",
    "\n",
    "print(f\"SageMaker role arn: {role}\")\n",
    "print(f\"SageMaker bucket: {sess.default_bucket()}\")\n",
    "print(f\"SageMaker session region: {sess.boto_region_name}\")"
   ]
  },
  {
   "cell_type": "code",
   "execution_count": 16,
   "id": "5d4986c9-05bc-4c10-94df-265863dfb316",
   "metadata": {
    "tags": []
   },
   "outputs": [
    {
     "name": "stdout",
     "output_type": "stream",
     "text": [
      "S3 data path: \n",
      " s3://sagemaker-us-east-1-143656149352/ko-llms/peft/kullm-polyglot-12-8b-v2/dataset/chunk-train\n",
      "S3 pretrained model path: \n",
      " s3://sagemaker-us-east-1-143656149352/ko-llms/peft/huggingface-models/kullm-polyglot-12-8b-v2/\n"
     ]
    }
   ],
   "source": [
    "bucket_prefix = 'ko-llms/peft'\n",
    "dataset_prefix = 'chunk-train'\n",
    "s3_data_path = f\"s3://{bucket}/{bucket_prefix}/{model_name}/dataset/{dataset_prefix}\"\n",
    "s3_pretrained_model_path = f\"s3://{bucket}/{bucket_prefix}/huggingface-models/{model_name}/\"\n",
    "print(f\"S3 data path: \\n {s3_data_path}\")\n",
    "print(f\"S3 pretrained model path: \\n {s3_pretrained_model_path}\")"
   ]
  },
  {
   "cell_type": "code",
   "execution_count": 17,
   "id": "205c6402-39b0-47f3-b8dd-6f2ef3add0ed",
   "metadata": {
    "tags": []
   },
   "outputs": [
    {
     "data": {
      "application/vnd.jupyter.widget-view+json": {
       "model_id": "80a8a369f37446129a52ba17685ee333",
       "version_major": 2,
       "version_minor": 0
      },
      "text/plain": [
       "Saving the dataset (0/1 shards):   0%|          | 0/3586 [00:00<?, ? examples/s]"
      ]
     },
     "metadata": {},
     "output_type": "display_data"
    },
    {
     "data": {
      "application/vnd.jupyter.widget-view+json": {
       "model_id": "c697dc024f28493dbbf0a5757e4e7d80",
       "version_major": 2,
       "version_minor": 0
      },
      "text/plain": [
       "Saving the dataset (0/1 shards):   0%|          | 0/50 [00:00<?, ? examples/s]"
      ]
     },
     "metadata": {},
     "output_type": "display_data"
    },
    {
     "name": "stdout",
     "output_type": "stream",
     "text": [
      "Number of samples for debugging: 50\n"
     ]
    }
   ],
   "source": [
    "num_debug_samples = 50\n",
    "lm_dataset.save_to_disk(s3_data_path)\n",
    "lm_dataset.select(range(num_debug_samples)).save_to_disk(dataset_prefix)\n",
    "print(f\"Number of samples for debugging: {num_debug_samples}\")"
   ]
  },
  {
   "cell_type": "code",
   "execution_count": 18,
   "id": "5d36dd79-6b74-475c-bbeb-bc56d1564580",
   "metadata": {
    "tags": []
   },
   "outputs": [
    {
     "name": "stdout",
     "output_type": "stream",
     "text": [
      "Stored 'bucket_prefix' (str)\n",
      "Stored 'dataset_prefix' (str)\n",
      "Stored 's3_data_path' (str)\n"
     ]
    }
   ],
   "source": [
    "%store bucket_prefix dataset_prefix s3_data_path"
   ]
  }
 ],
 "metadata": {
  "kernelspec": {
   "display_name": "conda_pytorch_p310",
   "language": "python",
   "name": "conda_pytorch_p310"
  },
  "language_info": {
   "codemirror_mode": {
    "name": "ipython",
    "version": 3
   },
   "file_extension": ".py",
   "mimetype": "text/x-python",
   "name": "python",
   "nbconvert_exporter": "python",
   "pygments_lexer": "ipython3",
   "version": "3.10.13"
  }
 },
 "nbformat": 4,
 "nbformat_minor": 5
}
