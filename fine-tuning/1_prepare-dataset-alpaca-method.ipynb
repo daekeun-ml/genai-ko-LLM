{
 "cells": [
  {
   "cell_type": "markdown",
   "id": "7e1e3ce5-d856-4cf8-93b7-50e0acce9f15",
   "metadata": {},
   "source": [
    "# Preprocess Datasets for Korean LLM (Large Language Model) fine-tuning\n",
    "---\n",
    "\n",
    "- Alpaca 논문에서 전처리했던 방식대로 전처리 수행\n",
    "- 허깅페이스 인증 정보 설정: `huggingface-cli login`\n",
    "    - https://huggingface.co/join\n",
    "    - https://huggingface.co/settings/tokens"
   ]
  },
  {
   "cell_type": "code",
   "execution_count": 1,
   "id": "283f4cee-20d4-4b94-930b-da48f05d03db",
   "metadata": {
    "tags": []
   },
   "outputs": [
    {
     "name": "stdout",
     "output_type": "stream",
     "text": [
      "Proceed.\n"
     ]
    }
   ],
   "source": [
    "%load_ext autoreload\n",
    "%autoreload 2\n",
    "import sys\n",
    "sys.path.append('../utils')\n",
    "sys.path.append('../templates')\n",
    "\n",
    "from common_lib import check_packages\n",
    "check_packages()"
   ]
  },
  {
   "cell_type": "markdown",
   "id": "0088d0bd-fd82-4dc4-a9e4-572b96df59d5",
   "metadata": {},
   "source": [
    "<br>\n",
    "\n",
    "## 1. Download LLM from Hugging Face hub\n",
    "---\n",
    "\n",
    "### Load dataset\n",
    "허깅페이스 허브에서 다운로드하거나 json/json 포맷의 데이터 세트를 다운로드합니다. 데이터 세트 내 샘플은 (`instruction, input, output`)의 key-value나 (`instruction, output`)의 key-value로 구성되어야 합니다.\n",
    "\n",
    "예시:\n",
    "```\n",
    "{\n",
    "    \"instruction\":\"건강을 유지하기 위한 세 가지 팁을 알려주세요.\",\n",
    "    \"input\":\"\",\n",
    "    \"output\":\"세 가지 팁은 아침식사를 꼭 챙기며, 충분한 수면을 취하고, 적극적으로 운동을 하는 것입니다.\"\n",
    "}\n",
    "```"
   ]
  },
  {
   "cell_type": "code",
   "execution_count": 2,
   "id": "9f226ac4-c157-4ee3-abd7-b9519320e229",
   "metadata": {
    "tags": []
   },
   "outputs": [
    {
     "name": "stdout",
     "output_type": "stream",
     "text": [
      "[2023-09-05 18:46:06,329] [INFO] [real_accelerator.py:158:get_accelerator] Setting ds_accelerator to cuda (auto detect)\n"
     ]
    },
    {
     "data": {
      "application/vnd.jupyter.widget-view+json": {
       "model_id": "eaf66d381a854c9fb8ee3fac6d277d04",
       "version_major": 2,
       "version_minor": 0
      },
      "text/plain": [
       "Downloading readme:   0%|          | 0.00/1.23k [00:00<?, ?B/s]"
      ]
     },
     "metadata": {},
     "output_type": "display_data"
    },
    {
     "data": {
      "application/vnd.jupyter.widget-view+json": {
       "model_id": "e105fceb8fe74246a80d7979d19bf18f",
       "version_major": 2,
       "version_minor": 0
      },
      "text/plain": [
       "Downloading data files:   0%|          | 0/1 [00:00<?, ?it/s]"
      ]
     },
     "metadata": {},
     "output_type": "display_data"
    },
    {
     "data": {
      "application/vnd.jupyter.widget-view+json": {
       "model_id": "78dd0fc3b74a4aafa5523be843772b00",
       "version_major": 2,
       "version_minor": 0
      },
      "text/plain": [
       "Downloading data:   0%|          | 0.00/264M [00:00<?, ?B/s]"
      ]
     },
     "metadata": {},
     "output_type": "display_data"
    },
    {
     "data": {
      "application/vnd.jupyter.widget-view+json": {
       "model_id": "077e0ef845834ee5aeae5eeaa768f4a2",
       "version_major": 2,
       "version_minor": 0
      },
      "text/plain": [
       "Extracting data files:   0%|          | 0/1 [00:00<?, ?it/s]"
      ]
     },
     "metadata": {},
     "output_type": "display_data"
    },
    {
     "data": {
      "application/vnd.jupyter.widget-view+json": {
       "model_id": "8552cfea5d454655bea5f7e7536b0eaf",
       "version_major": 2,
       "version_minor": 0
      },
      "text/plain": [
       "Generating train split: 0 examples [00:00, ? examples/s]"
      ]
     },
     "metadata": {},
     "output_type": "display_data"
    }
   ],
   "source": [
    "import os\n",
    "import torch\n",
    "import transformers\n",
    "from datasets import load_dataset\n",
    "from inference_lib import Prompter\n",
    "from transformers import GPTNeoXForCausalLM, GPTNeoXTokenizerFast\n",
    "\n",
    "data_path = \"nlpai-lab/kullm-v2\"\n",
    "#data_path = \"beomi/KoAlpaca-v1.1a\"\n",
    "#data_path = \"./data/ko_alpaca_data.json\"\n",
    "\n",
    "if data_path.endswith(\".json\") or data_path.endswith(\".jsonl\"):\n",
    "    data = load_dataset(\"json\", data_files=data_path)\n",
    "else:\n",
    "    data = load_dataset(data_path)\n",
    "    \n",
    "prompter = Prompter(\"kullm\")\n",
    "cutoff_len = 2048\n",
    "train_on_inputs = True"
   ]
  },
  {
   "cell_type": "code",
   "execution_count": 7,
   "id": "94014370-6f4b-4243-8c98-534cfc5eca36",
   "metadata": {
    "tags": []
   },
   "outputs": [
    {
     "data": {
      "application/vnd.jupyter.widget-view+json": {
       "model_id": "876a52d46e734472b92a9eabd20bb8ae",
       "version_major": 2,
       "version_minor": 0
      },
      "text/plain": [
       "Downloading (…)okenizer_config.json:   0%|          | 0.00/210 [00:00<?, ?B/s]"
      ]
     },
     "metadata": {},
     "output_type": "display_data"
    },
    {
     "data": {
      "application/vnd.jupyter.widget-view+json": {
       "model_id": "cf8f46590e6f4fafbe3707811f3f0ad9",
       "version_major": 2,
       "version_minor": 0
      },
      "text/plain": [
       "Downloading (…)/main/tokenizer.json:   0%|          | 0.00/1.65M [00:00<?, ?B/s]"
      ]
     },
     "metadata": {},
     "output_type": "display_data"
    },
    {
     "data": {
      "application/vnd.jupyter.widget-view+json": {
       "model_id": "ab58d7b6408d4e419f3533812ceee3a3",
       "version_major": 2,
       "version_minor": 0
      },
      "text/plain": [
       "Downloading (…)cial_tokens_map.json:   0%|          | 0.00/185 [00:00<?, ?B/s]"
      ]
     },
     "metadata": {},
     "output_type": "display_data"
    },
    {
     "name": "stderr",
     "output_type": "stream",
     "text": [
      "The tokenizer class you load from this checkpoint is not the same type as the class this function is called from. It may result in unexpected tokenization. \n",
      "The tokenizer class you load from this checkpoint is 'PreTrainedTokenizerFast'. \n",
      "The class this function is called from is 'GPTNeoXTokenizerFast'.\n"
     ]
    },
    {
     "data": {
      "application/vnd.jupyter.widget-view+json": {
       "model_id": "4c3a8d6d33924eab95ce7441345b8f1f",
       "version_major": 2,
       "version_minor": 0
      },
      "text/plain": [
       "Fetching 9 files:   0%|          | 0/9 [00:00<?, ?it/s]"
      ]
     },
     "metadata": {},
     "output_type": "display_data"
    },
    {
     "data": {
      "application/vnd.jupyter.widget-view+json": {
       "model_id": "d1137c8e41ba4abcbf6ca75e447e3e40",
       "version_major": 2,
       "version_minor": 0
      },
      "text/plain": [
       "Downloading (…)a3ba779c/config.json:   0%|          | 0.00/714 [00:00<?, ?B/s]"
      ]
     },
     "metadata": {},
     "output_type": "display_data"
    },
    {
     "data": {
      "application/vnd.jupyter.widget-view+json": {
       "model_id": "e93900cdd18a4465a5e1f577028a6663",
       "version_major": 2,
       "version_minor": 0
      },
      "text/plain": [
       "Downloading (…)cial_tokens_map.json:   0%|          | 0.00/185 [00:00<?, ?B/s]"
      ]
     },
     "metadata": {},
     "output_type": "display_data"
    },
    {
     "data": {
      "application/vnd.jupyter.widget-view+json": {
       "model_id": "dd4274037e994d71a6a27cda32ba5611",
       "version_major": 2,
       "version_minor": 0
      },
      "text/plain": [
       "Downloading (…)neration_config.json:   0%|          | 0.00/111 [00:00<?, ?B/s]"
      ]
     },
     "metadata": {},
     "output_type": "display_data"
    },
    {
     "data": {
      "application/vnd.jupyter.widget-view+json": {
       "model_id": "0ba7e39d4eec42fab57e595f9cbf1dab",
       "version_major": 2,
       "version_minor": 0
      },
      "text/plain": [
       "Downloading (…)okenizer_config.json:   0%|          | 0.00/210 [00:00<?, ?B/s]"
      ]
     },
     "metadata": {},
     "output_type": "display_data"
    },
    {
     "data": {
      "application/vnd.jupyter.widget-view+json": {
       "model_id": "ce25beb47a2040cca59e38ccf38ef335",
       "version_major": 2,
       "version_minor": 0
      },
      "text/plain": [
       "Downloading (…)l-00002-of-00003.bin:   0%|          | 0.00/9.93G [00:00<?, ?B/s]"
      ]
     },
     "metadata": {},
     "output_type": "display_data"
    },
    {
     "data": {
      "application/vnd.jupyter.widget-view+json": {
       "model_id": "8b0fa314d7924eb696e89c5070b133d5",
       "version_major": 2,
       "version_minor": 0
      },
      "text/plain": [
       "Downloading (…)a779c/tokenizer.json:   0%|          | 0.00/1.65M [00:00<?, ?B/s]"
      ]
     },
     "metadata": {},
     "output_type": "display_data"
    },
    {
     "data": {
      "application/vnd.jupyter.widget-view+json": {
       "model_id": "84b9423479b54f6fb65a797100bf55d7",
       "version_major": 2,
       "version_minor": 0
      },
      "text/plain": [
       "Downloading (…)l-00001-of-00003.bin:   0%|          | 0.00/10.0G [00:00<?, ?B/s]"
      ]
     },
     "metadata": {},
     "output_type": "display_data"
    },
    {
     "data": {
      "application/vnd.jupyter.widget-view+json": {
       "model_id": "72d305f7921b43c6a2f4401f992b5c13",
       "version_major": 2,
       "version_minor": 0
      },
      "text/plain": [
       "Downloading (…)l-00003-of-00003.bin:   0%|          | 0.00/6.01G [00:00<?, ?B/s]"
      ]
     },
     "metadata": {},
     "output_type": "display_data"
    },
    {
     "data": {
      "application/vnd.jupyter.widget-view+json": {
       "model_id": "e8ee45affa2c4bf688002c62366c917b",
       "version_major": 2,
       "version_minor": 0
      },
      "text/plain": [
       "Downloading (…)model.bin.index.json:   0%|          | 0.00/52.5k [00:00<?, ?B/s]"
      ]
     },
     "metadata": {},
     "output_type": "display_data"
    }
   ],
   "source": [
    "import os\n",
    "from pathlib import Path\n",
    "from huggingface_hub import snapshot_download\n",
    "\n",
    "HF_MODEL_ID = \"nlpai-lab/kullm-polyglot-12.8b-v2\"\n",
    "\n",
    "tokenizer = GPTNeoXTokenizerFast.from_pretrained(HF_MODEL_ID)\n",
    "\n",
    "# Only download pytorch checkpoint files\n",
    "allow_patterns = [\"*.json\", \"*.pt\", \"*.bin\", \"*.txt\", \"*.model\"]\n",
    "\n",
    "# create model dir\n",
    "model_name = HF_MODEL_ID.split(\"/\")[-1].replace('.', '-')\n",
    "model_tar_dir = Path(f\"/home/ec2-user/SageMaker/models/{model_name}\")\n",
    "if not os.path.isdir(model_tar_dir):\n",
    "    os.makedirs(model_tar_dir, exist_ok=True)\n",
    "    # Download model from Hugging Face into model_dir\n",
    "    snapshot_download(\n",
    "        HF_MODEL_ID, \n",
    "        local_dir=str(model_tar_dir), \n",
    "        local_dir_use_symlinks=False,\n",
    "        allow_patterns=allow_patterns,\n",
    "        cache_dir=\"/home/ec2-user/SageMaker/\"\n",
    "    )"
   ]
  },
  {
   "cell_type": "markdown",
   "id": "5f1dad55",
   "metadata": {},
   "source": [
    "# 데이터 살펴보기\n",
    "\n",
    "데이터 구조\n",
    "- id: 각 데이터 포인트의 고유 식별자\n",
    "- instruction: 사용자의 질문 또는 명령\n",
    "- input: 추가 입력 (여기서는 비어 있음)\n",
    "- output: 질문 또는 명령에 대한 답변"
   ]
  },
  {
   "cell_type": "code",
   "execution_count": 44,
   "id": "e2e73d5d",
   "metadata": {},
   "outputs": [
    {
     "name": "stdout",
     "output_type": "stream",
     "text": [
      "{'id': ['alpaca_{idx}', 'alpaca_{idx}', 'alpaca_{idx}'], 'instruction': ['3원색이란 무엇인가요?', '어려운 결정을 내려야 했던 순간을 설명해 주세요.', '원자의 구조를 설명합니다.'], 'input': ['', '', ''], 'output': ['세 가지 기본 색은 빨강, 파랑, 노랑입니다. 이 색은 다른 색을 혼합하여 만들 수 없고 다른 모든 색은 다양한 비율로 조합하여 만들 수 있기 때문에 원색이라고 부릅니다. 빛에 사용되는 첨가제 색상 시스템에서 원색은 빨강, 녹색, 파랑(RGB)입니다.', 'AI 어시스턴트인 저는 저만의 개인적인 경험이나 물리적 존재를 가지고 있지 않습니다. 하지만 알고리즘, 논리, 데이터를 기반으로 의사 결정을 내리도록 프로그래밍되어 있습니다. 상충되는 정보나 여러 가지 가능한 결과가 있을 수 있기 때문에 의사결정이 어려운 상황에 직면할 때가 있습니다. 그런 경우 저는 각 옵션의 위험과 이점을 분석하고 비교하여 원하는 결과를 얻을 가능성이 가장 높은 결론에 도달할 수 있는 능력을 활용합니다.', '원자는 모든 물질의 기본 구성 요소이며 양성자, 중성자, 전자의 세 가지 유형의 입자로 이루어져 있습니다. 원자의 구조는 전자 구름으로 둘러싸인 중앙에 핵이 있는 것으로 설명할 수 있습니다.\\n\\n원자의 핵은 양성자와 중성자로 구성됩니다. 양성자는 양전하를 띠는 입자이고 중성자는 전하를 띠지 않는 중성 입자입니다. 이 두 입자는 원자의 중심에 있으며 원자 질량의 대부분을 차지하는 원자핵에 위치합니다.\\n\\n원자핵을 둘러싸고 있는 것은 전자 구름입니다. 전자는 음전하를 띠는 입자로, 원자핵 주변에서 끊임없이 움직입니다. 전자 구름은 껍질 또는 궤도로 나뉘며, 각 껍질은 특정 수의 전자를 보유할 수 있습니다. 원자가 껍질이라고 하는 가장 바깥쪽 껍질에 있는 전자의 수에 따라 원자의 화학적 특성이 결정됩니다.\\n\\n중성 원자에서 핵의 양성자 수는 전자 구름의 전자 수와 같으므로 양전하와 음전하가 균형을 이루며 원자는 전체 전하를 갖지 않습니다. 원자 번호라고도 하는 양성자의 수는 원자가 어떤 원소인지 결정합니다.']}\n"
     ]
    }
   ],
   "source": [
    "# 데이터셋의 처음 3개 샘플을 출력\n",
    "print(data['train'][:3])"
   ]
  },
  {
   "cell_type": "markdown",
   "id": "52f6dc61",
   "metadata": {},
   "source": [
    "### 기본 통계량 계산\n",
    "문장의 길이, 단어의 개수, 고유 단어의 개수 등을 계산합니다."
   ]
  },
  {
   "cell_type": "code",
   "execution_count": 45,
   "id": "1b1eb52d",
   "metadata": {},
   "outputs": [
    {
     "data": {
      "text/html": [
       "<div>\n",
       "<style scoped>\n",
       "    .dataframe tbody tr th:only-of-type {\n",
       "        vertical-align: middle;\n",
       "    }\n",
       "\n",
       "    .dataframe tbody tr th {\n",
       "        vertical-align: top;\n",
       "    }\n",
       "\n",
       "    .dataframe thead th {\n",
       "        text-align: right;\n",
       "    }\n",
       "</style>\n",
       "<table border=\"1\" class=\"dataframe\">\n",
       "  <thead>\n",
       "    <tr style=\"text-align: right;\">\n",
       "      <th></th>\n",
       "      <th>id</th>\n",
       "      <th>instruction</th>\n",
       "      <th>input</th>\n",
       "      <th>output</th>\n",
       "    </tr>\n",
       "  </thead>\n",
       "  <tbody>\n",
       "    <tr>\n",
       "      <th>0</th>\n",
       "      <td>alpaca_{idx}</td>\n",
       "      <td>3원색이란 무엇인가요?</td>\n",
       "      <td></td>\n",
       "      <td>세 가지 기본 색은 빨강, 파랑, 노랑입니다. 이 색은 다른 색을 혼합하여 만들 수...</td>\n",
       "    </tr>\n",
       "    <tr>\n",
       "      <th>1</th>\n",
       "      <td>alpaca_{idx}</td>\n",
       "      <td>어려운 결정을 내려야 했던 순간을 설명해 주세요.</td>\n",
       "      <td></td>\n",
       "      <td>AI 어시스턴트인 저는 저만의 개인적인 경험이나 물리적 존재를 가지고 있지 않습니다...</td>\n",
       "    </tr>\n",
       "    <tr>\n",
       "      <th>2</th>\n",
       "      <td>alpaca_{idx}</td>\n",
       "      <td>원자의 구조를 설명합니다.</td>\n",
       "      <td></td>\n",
       "      <td>원자는 모든 물질의 기본 구성 요소이며 양성자, 중성자, 전자의 세 가지 유형의 입...</td>\n",
       "    </tr>\n",
       "    <tr>\n",
       "      <th>3</th>\n",
       "      <td>alpaca_{idx}</td>\n",
       "      <td>대기 오염을 줄이려면 어떻게 해야 할까요?</td>\n",
       "      <td></td>\n",
       "      <td>대기 오염을 줄이는 방법에는 다음과 같은 여러 가지가 있습니다:\\n\\n1. 에너지 ...</td>\n",
       "    </tr>\n",
       "    <tr>\n",
       "      <th>4</th>\n",
       "      <td>alpaca_{idx}</td>\n",
       "      <td>건강을 유지하기 위한 세 가지 팁을 알려주세요.</td>\n",
       "      <td></td>\n",
       "      <td>1. 균형 잡힌 영양가 있는 식단을 섭취합니다: 식단에 다양한 과일과 채소, 저지방...</td>\n",
       "    </tr>\n",
       "    <tr>\n",
       "      <th>...</th>\n",
       "      <td>...</td>\n",
       "      <td>...</td>\n",
       "      <td>...</td>\n",
       "      <td>...</td>\n",
       "    </tr>\n",
       "    <tr>\n",
       "      <th>152625</th>\n",
       "      <td>vicuna_{idx}</td>\n",
       "      <td>자세히 보기</td>\n",
       "      <td></td>\n",
       "      <td>7가지 동영상 제목 아이디어가 더 있습니다:1. 시청자를 교육하고 신뢰를 구축하는 ...</td>\n",
       "    </tr>\n",
       "    <tr>\n",
       "      <th>152626</th>\n",
       "      <td>vicuna_{idx}</td>\n",
       "      <td>저는 다양한 직원의 순간(온보딩부터 오프보딩까지, 그리고 그 사이에 결혼, 질병 등...</td>\n",
       "      <td></td>\n",
       "      <td>직원의 중요한 순간을 위한 허브 사이트를 만들게 된 것을 축하합니다! 퇴직을 오프보...</td>\n",
       "    </tr>\n",
       "    <tr>\n",
       "      <th>152627</th>\n",
       "      <td>vicuna_{idx}</td>\n",
       "      <td>이미지가 PDF로 저장됩니다. 다르게 처리해야 하나요? 일부 PDF에는 이러한 출석...</td>\n",
       "      <td></td>\n",
       "      <td>예, PDF 페이지에서 이미지를 먼저 추출해야 하므로 PDF 파일을 다른 방식으로 ...</td>\n",
       "    </tr>\n",
       "    <tr>\n",
       "      <th>152628</th>\n",
       "      <td>vicuna_{idx}</td>\n",
       "      <td>더 많은 아이디어 제공</td>\n",
       "      <td></td>\n",
       "      <td>비감염성 질환 문제를 해결하기 위한 웹사이트 아이디어를 몇 가지 더 소개합니다:1....</td>\n",
       "    </tr>\n",
       "    <tr>\n",
       "      <th>152629</th>\n",
       "      <td>vicuna_{idx}</td>\n",
       "      <td>항바이러스제는 생명을 위협하는 바이러스에만 사용되나요?</td>\n",
       "      <td></td>\n",
       "      <td>항바이러스제는 생명을 위협하는 바이러스에만 사용되는 것이 아닙니다. 경증 및 중증 ...</td>\n",
       "    </tr>\n",
       "  </tbody>\n",
       "</table>\n",
       "<p>152630 rows × 4 columns</p>\n",
       "</div>"
      ],
      "text/plain": [
       "                  id                                        instruction input  \\\n",
       "0       alpaca_{idx}                                       3원색이란 무엇인가요?         \n",
       "1       alpaca_{idx}                        어려운 결정을 내려야 했던 순간을 설명해 주세요.         \n",
       "2       alpaca_{idx}                                     원자의 구조를 설명합니다.         \n",
       "3       alpaca_{idx}                            대기 오염을 줄이려면 어떻게 해야 할까요?         \n",
       "4       alpaca_{idx}                         건강을 유지하기 위한 세 가지 팁을 알려주세요.         \n",
       "...              ...                                                ...   ...   \n",
       "152625  vicuna_{idx}                                             자세히 보기         \n",
       "152626  vicuna_{idx}  저는 다양한 직원의 순간(온보딩부터 오프보딩까지, 그리고 그 사이에 결혼, 질병 등...         \n",
       "152627  vicuna_{idx}  이미지가 PDF로 저장됩니다. 다르게 처리해야 하나요? 일부 PDF에는 이러한 출석...         \n",
       "152628  vicuna_{idx}                                       더 많은 아이디어 제공         \n",
       "152629  vicuna_{idx}                     항바이러스제는 생명을 위협하는 바이러스에만 사용되나요?         \n",
       "\n",
       "                                                   output  \n",
       "0       세 가지 기본 색은 빨강, 파랑, 노랑입니다. 이 색은 다른 색을 혼합하여 만들 수...  \n",
       "1       AI 어시스턴트인 저는 저만의 개인적인 경험이나 물리적 존재를 가지고 있지 않습니다...  \n",
       "2       원자는 모든 물질의 기본 구성 요소이며 양성자, 중성자, 전자의 세 가지 유형의 입...  \n",
       "3       대기 오염을 줄이는 방법에는 다음과 같은 여러 가지가 있습니다:\\n\\n1. 에너지 ...  \n",
       "4       1. 균형 잡힌 영양가 있는 식단을 섭취합니다: 식단에 다양한 과일과 채소, 저지방...  \n",
       "...                                                   ...  \n",
       "152625  7가지 동영상 제목 아이디어가 더 있습니다:1. 시청자를 교육하고 신뢰를 구축하는 ...  \n",
       "152626  직원의 중요한 순간을 위한 허브 사이트를 만들게 된 것을 축하합니다! 퇴직을 오프보...  \n",
       "152627  예, PDF 페이지에서 이미지를 먼저 추출해야 하므로 PDF 파일을 다른 방식으로 ...  \n",
       "152628  비감염성 질환 문제를 해결하기 위한 웹사이트 아이디어를 몇 가지 더 소개합니다:1....  \n",
       "152629  항바이러스제는 생명을 위협하는 바이러스에만 사용되는 것이 아닙니다. 경증 및 중증 ...  \n",
       "\n",
       "[152630 rows x 4 columns]"
      ]
     },
     "execution_count": 45,
     "metadata": {},
     "output_type": "execute_result"
    }
   ],
   "source": [
    "import pandas as pd\n",
    "\n",
    "# 데이터셋을 pandas DataFrame으로 변환\n",
    "df = pd.DataFrame(data['train'])\n",
    "\n",
    "df"
   ]
  },
  {
   "cell_type": "code",
   "execution_count": 47,
   "id": "3236bd12",
   "metadata": {},
   "outputs": [
    {
     "name": "stdout",
     "output_type": "stream",
     "text": [
      "       instruction_length   input_length  output_length\n",
      "count       152630.000000  152630.000000  152630.000000\n",
      "mean           159.659209      21.391404     653.133519\n",
      "std            571.326172     149.934448     617.208994\n",
      "min              0.000000       0.000000       0.000000\n",
      "25%             23.000000       0.000000     171.000000\n",
      "50%             33.000000       0.000000     529.000000\n",
      "75%             57.000000       0.000000     912.000000\n",
      "max          23515.000000    9244.000000    6079.000000\n"
     ]
    },
    {
     "data": {
      "text/html": [
       "<div>\n",
       "<style scoped>\n",
       "    .dataframe tbody tr th:only-of-type {\n",
       "        vertical-align: middle;\n",
       "    }\n",
       "\n",
       "    .dataframe tbody tr th {\n",
       "        vertical-align: top;\n",
       "    }\n",
       "\n",
       "    .dataframe thead th {\n",
       "        text-align: right;\n",
       "    }\n",
       "</style>\n",
       "<table border=\"1\" class=\"dataframe\">\n",
       "  <thead>\n",
       "    <tr style=\"text-align: right;\">\n",
       "      <th></th>\n",
       "      <th>id</th>\n",
       "      <th>instruction</th>\n",
       "      <th>input</th>\n",
       "      <th>output</th>\n",
       "      <th>instruction_length</th>\n",
       "      <th>input_length</th>\n",
       "      <th>output_length</th>\n",
       "    </tr>\n",
       "  </thead>\n",
       "  <tbody>\n",
       "    <tr>\n",
       "      <th>0</th>\n",
       "      <td>alpaca_{idx}</td>\n",
       "      <td>3원색이란 무엇인가요?</td>\n",
       "      <td></td>\n",
       "      <td>세 가지 기본 색은 빨강, 파랑, 노랑입니다. 이 색은 다른 색을 혼합하여 만들 수...</td>\n",
       "      <td>12</td>\n",
       "      <td>0</td>\n",
       "      <td>140</td>\n",
       "    </tr>\n",
       "    <tr>\n",
       "      <th>1</th>\n",
       "      <td>alpaca_{idx}</td>\n",
       "      <td>어려운 결정을 내려야 했던 순간을 설명해 주세요.</td>\n",
       "      <td></td>\n",
       "      <td>AI 어시스턴트인 저는 저만의 개인적인 경험이나 물리적 존재를 가지고 있지 않습니다...</td>\n",
       "      <td>27</td>\n",
       "      <td>0</td>\n",
       "      <td>238</td>\n",
       "    </tr>\n",
       "    <tr>\n",
       "      <th>2</th>\n",
       "      <td>alpaca_{idx}</td>\n",
       "      <td>원자의 구조를 설명합니다.</td>\n",
       "      <td></td>\n",
       "      <td>원자는 모든 물질의 기본 구성 요소이며 양성자, 중성자, 전자의 세 가지 유형의 입...</td>\n",
       "      <td>14</td>\n",
       "      <td>0</td>\n",
       "      <td>508</td>\n",
       "    </tr>\n",
       "    <tr>\n",
       "      <th>3</th>\n",
       "      <td>alpaca_{idx}</td>\n",
       "      <td>대기 오염을 줄이려면 어떻게 해야 할까요?</td>\n",
       "      <td></td>\n",
       "      <td>대기 오염을 줄이는 방법에는 다음과 같은 여러 가지가 있습니다:\\n\\n1. 에너지 ...</td>\n",
       "      <td>23</td>\n",
       "      <td>0</td>\n",
       "      <td>712</td>\n",
       "    </tr>\n",
       "    <tr>\n",
       "      <th>4</th>\n",
       "      <td>alpaca_{idx}</td>\n",
       "      <td>건강을 유지하기 위한 세 가지 팁을 알려주세요.</td>\n",
       "      <td></td>\n",
       "      <td>1. 균형 잡힌 영양가 있는 식단을 섭취합니다: 식단에 다양한 과일과 채소, 저지방...</td>\n",
       "      <td>26</td>\n",
       "      <td>0</td>\n",
       "      <td>402</td>\n",
       "    </tr>\n",
       "    <tr>\n",
       "      <th>...</th>\n",
       "      <td>...</td>\n",
       "      <td>...</td>\n",
       "      <td>...</td>\n",
       "      <td>...</td>\n",
       "      <td>...</td>\n",
       "      <td>...</td>\n",
       "      <td>...</td>\n",
       "    </tr>\n",
       "    <tr>\n",
       "      <th>152625</th>\n",
       "      <td>vicuna_{idx}</td>\n",
       "      <td>자세히 보기</td>\n",
       "      <td></td>\n",
       "      <td>7가지 동영상 제목 아이디어가 더 있습니다:1. 시청자를 교육하고 신뢰를 구축하는 ...</td>\n",
       "      <td>7</td>\n",
       "      <td>0</td>\n",
       "      <td>280</td>\n",
       "    </tr>\n",
       "    <tr>\n",
       "      <th>152626</th>\n",
       "      <td>vicuna_{idx}</td>\n",
       "      <td>저는 다양한 직원의 순간(온보딩부터 오프보딩까지, 그리고 그 사이에 결혼, 질병 등...</td>\n",
       "      <td></td>\n",
       "      <td>직원의 중요한 순간을 위한 허브 사이트를 만들게 된 것을 축하합니다! 퇴직을 오프보...</td>\n",
       "      <td>141</td>\n",
       "      <td>0</td>\n",
       "      <td>1000</td>\n",
       "    </tr>\n",
       "    <tr>\n",
       "      <th>152627</th>\n",
       "      <td>vicuna_{idx}</td>\n",
       "      <td>이미지가 PDF로 저장됩니다. 다르게 처리해야 하나요? 일부 PDF에는 이러한 출석...</td>\n",
       "      <td></td>\n",
       "      <td>예, PDF 페이지에서 이미지를 먼저 추출해야 하므로 PDF 파일을 다른 방식으로 ...</td>\n",
       "      <td>80</td>\n",
       "      <td>0</td>\n",
       "      <td>1532</td>\n",
       "    </tr>\n",
       "    <tr>\n",
       "      <th>152628</th>\n",
       "      <td>vicuna_{idx}</td>\n",
       "      <td>더 많은 아이디어 제공</td>\n",
       "      <td></td>\n",
       "      <td>비감염성 질환 문제를 해결하기 위한 웹사이트 아이디어를 몇 가지 더 소개합니다:1....</td>\n",
       "      <td>12</td>\n",
       "      <td>0</td>\n",
       "      <td>1222</td>\n",
       "    </tr>\n",
       "    <tr>\n",
       "      <th>152629</th>\n",
       "      <td>vicuna_{idx}</td>\n",
       "      <td>항바이러스제는 생명을 위협하는 바이러스에만 사용되나요?</td>\n",
       "      <td></td>\n",
       "      <td>항바이러스제는 생명을 위협하는 바이러스에만 사용되는 것이 아닙니다. 경증 및 중증 ...</td>\n",
       "      <td>30</td>\n",
       "      <td>0</td>\n",
       "      <td>603</td>\n",
       "    </tr>\n",
       "  </tbody>\n",
       "</table>\n",
       "<p>152630 rows × 7 columns</p>\n",
       "</div>"
      ],
      "text/plain": [
       "                  id                                        instruction input  \\\n",
       "0       alpaca_{idx}                                       3원색이란 무엇인가요?         \n",
       "1       alpaca_{idx}                        어려운 결정을 내려야 했던 순간을 설명해 주세요.         \n",
       "2       alpaca_{idx}                                     원자의 구조를 설명합니다.         \n",
       "3       alpaca_{idx}                            대기 오염을 줄이려면 어떻게 해야 할까요?         \n",
       "4       alpaca_{idx}                         건강을 유지하기 위한 세 가지 팁을 알려주세요.         \n",
       "...              ...                                                ...   ...   \n",
       "152625  vicuna_{idx}                                             자세히 보기         \n",
       "152626  vicuna_{idx}  저는 다양한 직원의 순간(온보딩부터 오프보딩까지, 그리고 그 사이에 결혼, 질병 등...         \n",
       "152627  vicuna_{idx}  이미지가 PDF로 저장됩니다. 다르게 처리해야 하나요? 일부 PDF에는 이러한 출석...         \n",
       "152628  vicuna_{idx}                                       더 많은 아이디어 제공         \n",
       "152629  vicuna_{idx}                     항바이러스제는 생명을 위협하는 바이러스에만 사용되나요?         \n",
       "\n",
       "                                                   output  instruction_length  \\\n",
       "0       세 가지 기본 색은 빨강, 파랑, 노랑입니다. 이 색은 다른 색을 혼합하여 만들 수...                  12   \n",
       "1       AI 어시스턴트인 저는 저만의 개인적인 경험이나 물리적 존재를 가지고 있지 않습니다...                  27   \n",
       "2       원자는 모든 물질의 기본 구성 요소이며 양성자, 중성자, 전자의 세 가지 유형의 입...                  14   \n",
       "3       대기 오염을 줄이는 방법에는 다음과 같은 여러 가지가 있습니다:\\n\\n1. 에너지 ...                  23   \n",
       "4       1. 균형 잡힌 영양가 있는 식단을 섭취합니다: 식단에 다양한 과일과 채소, 저지방...                  26   \n",
       "...                                                   ...                 ...   \n",
       "152625  7가지 동영상 제목 아이디어가 더 있습니다:1. 시청자를 교육하고 신뢰를 구축하는 ...                   7   \n",
       "152626  직원의 중요한 순간을 위한 허브 사이트를 만들게 된 것을 축하합니다! 퇴직을 오프보...                 141   \n",
       "152627  예, PDF 페이지에서 이미지를 먼저 추출해야 하므로 PDF 파일을 다른 방식으로 ...                  80   \n",
       "152628  비감염성 질환 문제를 해결하기 위한 웹사이트 아이디어를 몇 가지 더 소개합니다:1....                  12   \n",
       "152629  항바이러스제는 생명을 위협하는 바이러스에만 사용되는 것이 아닙니다. 경증 및 중증 ...                  30   \n",
       "\n",
       "        input_length  output_length  \n",
       "0                  0            140  \n",
       "1                  0            238  \n",
       "2                  0            508  \n",
       "3                  0            712  \n",
       "4                  0            402  \n",
       "...              ...            ...  \n",
       "152625             0            280  \n",
       "152626             0           1000  \n",
       "152627             0           1532  \n",
       "152628             0           1222  \n",
       "152629             0            603  \n",
       "\n",
       "[152630 rows x 7 columns]"
      ]
     },
     "execution_count": 47,
     "metadata": {},
     "output_type": "execute_result"
    }
   ],
   "source": [
    "# 문장 길이, 단어 수 등 기본 통계량 계산\n",
    "df['instruction_length'] = df['instruction'].apply(len)\n",
    "df['input_length'] = df['input'].apply(len)\n",
    "df['output_length'] = df['output'].apply(len)\n",
    "\n",
    "print(df.describe())\n",
    "df"
   ]
  },
  {
   "cell_type": "code",
   "execution_count": 22,
   "id": "19faabb4",
   "metadata": {},
   "outputs": [
    {
     "name": "stdout",
     "output_type": "stream",
     "text": [
      "Index(['id', 'instruction', 'input', 'output', 'instruction_length',\n",
      "       'input_length', 'output_length'],\n",
      "      dtype='object')\n"
     ]
    }
   ],
   "source": [
    "print(df.columns)"
   ]
  },
  {
   "cell_type": "markdown",
   "id": "db900453",
   "metadata": {},
   "source": [
    "### 문장 길이, 단어 빈도 등을 시각화"
   ]
  },
  {
   "cell_type": "code",
   "execution_count": 11,
   "id": "db2a7211",
   "metadata": {},
   "outputs": [
    {
     "data": {
      "image/png": "[encoded data removed]",
      "text/plain": [
       "<Figure size 640x480 with 1 Axes>"
      ]
     },
     "metadata": {},
     "output_type": "display_data"
    }
   ],
   "source": [
    "import matplotlib.pyplot as plt\n",
    "\n",
    "# 문장 길이 분포 시각화\n",
    "plt.hist(df['instruction_length'], bins=50, alpha=0.5, label='Instruction Length')\n",
    "plt.hist(df['input_length'], bins=50, alpha=0.5, label='Input Length')\n",
    "plt.hist(df['output_length'], bins=50, alpha=0.5, label='Output Length')\n",
    "plt.legend(loc='upper right')\n",
    "plt.show()"
   ]
  },
  {
   "cell_type": "markdown",
   "id": "0cc7748a",
   "metadata": {},
   "source": [
    "### 고유 단어 및 빈도수 분석"
   ]
  },
  {
   "cell_type": "code",
   "execution_count": 15,
   "id": "bf80dd88",
   "metadata": {},
   "outputs": [
    {
     "name": "stdout",
     "output_type": "stream",
     "text": [
      "가장 자주 등장하는 단어 10개 :  [('수', 54541), ('=', 37405), ('대한', 30755), ('이', 25735), ('및', 25516), ('있는', 22676), ('있습니다.', 18468), ('-', 16558), ('더', 15042), ('{', 14709)]\n",
      "\n",
      "\n",
      "가장 드물게 등장하는 단어 10개 :  [('바이러스에만', 1), ('항바이러스제는', 1), ('PDF에는', 1), ('퇴직입니다(오프보딩과', 1), ('이벤트)으로', 1), ('결혼,', 1), ('오프보딩까지,', 1), ('순간(온보딩부터', 1), ('Peter의', 1), ('신규자', 1)]\n"
     ]
    }
   ],
   "source": [
    "from collections import Counter\n",
    "\n",
    "# 모든 문장을 단어로 분리\n",
    "all_words = ' '.join(df['instruction']).split()\n",
    "\n",
    "# 단어 빈도수 계산\n",
    "word_freq = Counter(all_words)\n",
    "\n",
    "# 가장 자주 등장하는 단어 10개\n",
    "print('가장 자주 등장하는 단어 10개 : ', word_freq.most_common(10))\n",
    "print('\\n')\n",
    "# 가장 드물게 등장하는 단어 10개\n",
    "print('가장 드물게 등장하는 단어 10개 : ', word_freq.most_common()[:-11:-1])\n"
   ]
  },
  {
   "cell_type": "markdown",
   "id": "39425f35-ece7-4888-9366-f54283075fc8",
   "metadata": {},
   "source": [
    "<br>\n",
    "\n",
    "## 2. Tokenize\n",
    "---\n",
    "목적: 텍스트를 더 작은 부분, 즉 \"토큰(token)\"으로 분리하는 과정입니다.\n",
    "단위: 보통 단어, 문장, 문단 등을 토큰으로 분리합니다. 하지만 언어와 문맥에 따라 다를 수 있습니다.\n",
    "\n",
    "### NLP에서 Tokenization\n",
    "\n",
    "#### Tokenization (토큰화)\n",
    "\n",
    "**정의**: 토큰화는 큰 문단을 문장, 단어 또는 다른 단위로 분해하는 과정입니다. 이 과정은 텍스트의 구조를 이해하는 데 필수적이며, 자연어 처리(NLP)에서 종종 첫 번째 단계 중 하나입니다.\n",
    "\n",
    "**사용 사례**: \n",
    "- 텍스트 분류\n",
    "- 감정 분석\n",
    "- 기계 번역\n",
    "\n",
    "**예시**: \n",
    "```text\n",
    "입력: \"안녕하세요, 세상! 어떻게 지내세요?\"\n",
    "토큰: [\"안녕하세요\", \",\", \"세상\", \"!\", \"어떻게\", \"지내세요\", \"?\"]\n",
    "```\n",
    "\n",
    "**장점**:\n",
    "- 단순하고 빠름\n",
    "- 추가적인 텍스트 분석의 기초가 됨\n",
    "\n",
    "**단점**:\n",
    "- 단어 사이의 문맥과 의미 관계를 잃음\n",
    "- 관용 표현을 잘 처리하지 못할 수 있음\n",
    "\n",
    "---"
   ]
  },
  {
   "cell_type": "code",
   "execution_count": 23,
   "id": "7a492cfc-8402-4fb1-8fe3-3b27c64c5c35",
   "metadata": {
    "tags": []
   },
   "outputs": [],
   "source": [
    "def tokenize(prompt, add_eos_token=True):\n",
    "    # there's probably a way to do this with the tokenizer settings\n",
    "    # but again, gotta move fast\n",
    "    result = tokenizer(\n",
    "        prompt,\n",
    "        truncation=True,\n",
    "        max_length=cutoff_len,\n",
    "        padding=False,\n",
    "        return_tensors=None,\n",
    "    )\n",
    "    if (\n",
    "        result[\"input_ids\"][-1] != tokenizer.eos_token_id\n",
    "        and len(result[\"input_ids\"]) < cutoff_len\n",
    "        and add_eos_token\n",
    "    ):\n",
    "        result[\"input_ids\"].append(tokenizer.eos_token_id)\n",
    "        result[\"attention_mask\"].append(1)\n",
    "\n",
    "    result[\"labels\"] = result[\"input_ids\"].copy()\n",
    "\n",
    "    return result\n",
    "\n",
    "def generate_and_tokenize_prompt(data_point):\n",
    "    full_prompt = prompter.generate_prompt(\n",
    "        data_point[\"instruction\"],\n",
    "        data_point.get(\"input\"),\n",
    "        data_point[\"output\"],\n",
    "    )\n",
    "    tokenized_full_prompt = tokenize(full_prompt)\n",
    "    if not train_on_inputs:\n",
    "        user_prompt = prompter.generate_prompt(data_point[\"instruction\"], data_point.get(\"input\"))\n",
    "        tokenized_user_prompt = tokenize(user_prompt, add_eos_token=add_eos_token)\n",
    "        user_prompt_len = len(tokenized_user_prompt[\"input_ids\"])\n",
    "\n",
    "        if add_eos_token:\n",
    "            user_prompt_len -= 1\n",
    "\n",
    "        tokenized_full_prompt[\"labels\"] = [-100] * user_prompt_len + tokenized_full_prompt[\"labels\"][\n",
    "            user_prompt_len:\n",
    "        ]  # could be sped up, probably\n",
    "    return tokenized_full_prompt\n"
   ]
  },
  {
   "cell_type": "code",
   "execution_count": 24,
   "id": "b870f0e1-eab7-45db-bd59-3bd5c9c19394",
   "metadata": {
    "tags": []
   },
   "outputs": [
    {
     "data": {
      "application/vnd.jupyter.widget-view+json": {
       "model_id": "b0996707b0944d33b6543823676c8ca4",
       "version_major": 2,
       "version_minor": 0
      },
      "text/plain": [
       "Map:   0%|          | 0/152630 [00:00<?, ? examples/s]"
      ]
     },
     "metadata": {},
     "output_type": "display_data"
    },
    {
     "name": "stdout",
     "output_type": "stream",
     "text": [
      "Total number of samples: 152630\n"
     ]
    }
   ],
   "source": [
    "dataset = data['train'].shuffle()#.select(range(100))\n",
    "lm_dataset = dataset.map(generate_and_tokenize_prompt)\n",
    "\n",
    "# Print total number of samples\n",
    "print(f\"Total number of samples: {len(lm_dataset)}\")"
   ]
  },
  {
   "cell_type": "code",
   "execution_count": 27,
   "id": "d7458604",
   "metadata": {},
   "outputs": [
    {
     "data": {
      "text/html": [
       "<div>\n",
       "<style scoped>\n",
       "    .dataframe tbody tr th:only-of-type {\n",
       "        vertical-align: middle;\n",
       "    }\n",
       "\n",
       "    .dataframe tbody tr th {\n",
       "        vertical-align: top;\n",
       "    }\n",
       "\n",
       "    .dataframe thead th {\n",
       "        text-align: right;\n",
       "    }\n",
       "</style>\n",
       "<table border=\"1\" class=\"dataframe\">\n",
       "  <thead>\n",
       "    <tr style=\"text-align: right;\">\n",
       "      <th></th>\n",
       "      <th>id</th>\n",
       "      <th>instruction</th>\n",
       "      <th>input</th>\n",
       "      <th>output</th>\n",
       "      <th>input_ids</th>\n",
       "      <th>attention_mask</th>\n",
       "      <th>labels</th>\n",
       "    </tr>\n",
       "  </thead>\n",
       "  <tbody>\n",
       "    <tr>\n",
       "      <th>0</th>\n",
       "      <td>alpaca_{idx}</td>\n",
       "      <td>2020년 시가총액 기준 상위 5개 기술 기업 파악하기</td>\n",
       "      <td></td>\n",
       "      <td>2020년 5월 기준 포브스 글로벌 2000 리스트와 시가총액에 따르면 상위 5개 ...</td>\n",
       "      <td>[12657, 272, 2236, 276, 1251, 284, 272, 5026, ...</td>\n",
       "      <td>[1, 1, 1, 1, 1, 1, 1, 1, 1, 1, 1, 1, 1, 1, 1, ...</td>\n",
       "      <td>[12657, 272, 2236, 276, 1251, 284, 272, 5026, ...</td>\n",
       "    </tr>\n",
       "    <tr>\n",
       "      <th>1</th>\n",
       "      <td>dolly_{idx}</td>\n",
       "      <td>세계에서 가장 오래된 도시의 이름은 무엇인가요?</td>\n",
       "      <td></td>\n",
       "      <td>세계에서 가장 오래된 도시 중 하나로 알려진 곳은 이집트의 룩소르(Luxor)입니다...</td>\n",
       "      <td>[12657, 272, 2236, 276, 1251, 284, 272, 5026, ...</td>\n",
       "      <td>[1, 1, 1, 1, 1, 1, 1, 1, 1, 1, 1, 1, 1, 1, 1, ...</td>\n",
       "      <td>[12657, 272, 2236, 276, 1251, 284, 272, 5026, ...</td>\n",
       "    </tr>\n",
       "    <tr>\n",
       "      <th>2</th>\n",
       "      <td>vicuna_{idx}</td>\n",
       "      <td>이제 100개의 서로 다른 메시지 환자가 포함된 긴 목록을 알려드리겠습니다. 각각의...</td>\n",
       "      <td></td>\n",
       "      <td>다음은 각 메시지를 카테고리와 일치시키는 테이블입니다:\\r\\n\\r\\n| 메시지 | ...</td>\n",
       "      <td>[12657, 272, 2236, 276, 1251, 284, 272, 5026, ...</td>\n",
       "      <td>[1, 1, 1, 1, 1, 1, 1, 1, 1, 1, 1, 1, 1, 1, 1, ...</td>\n",
       "      <td>[12657, 272, 2236, 276, 1251, 284, 272, 5026, ...</td>\n",
       "    </tr>\n",
       "    <tr>\n",
       "      <th>3</th>\n",
       "      <td>vicuna_{idx}</td>\n",
       "      <td>이 글의 네 번째 부분입니다.인용{weber2009data}의 데이터 세트는 개막 ...</td>\n",
       "      <td></td>\n",
       "      <td>다른 질문이 있거나 도움이 필요하면 언제든지 알려주세요.</td>\n",
       "      <td>[12657, 272, 2236, 276, 1251, 284, 272, 5026, ...</td>\n",
       "      <td>[1, 1, 1, 1, 1, 1, 1, 1, 1, 1, 1, 1, 1, 1, 1, ...</td>\n",
       "      <td>[12657, 272, 2236, 276, 1251, 284, 272, 5026, ...</td>\n",
       "    </tr>\n",
       "    <tr>\n",
       "      <th>4</th>\n",
       "      <td>alpaca_{idx}</td>\n",
       "      <td>태양 전지판의 조직 구조를 설명합니다.</td>\n",
       "      <td></td>\n",
       "      <td>태양광 패널은 패널 표면에 격자형 패턴으로 배열된 여러 개의 태양광 셀로 구성됩니다...</td>\n",
       "      <td>[12657, 272, 2236, 276, 1251, 284, 272, 5026, ...</td>\n",
       "      <td>[1, 1, 1, 1, 1, 1, 1, 1, 1, 1, 1, 1, 1, 1, 1, ...</td>\n",
       "      <td>[12657, 272, 2236, 276, 1251, 284, 272, 5026, ...</td>\n",
       "    </tr>\n",
       "    <tr>\n",
       "      <th>...</th>\n",
       "      <td>...</td>\n",
       "      <td>...</td>\n",
       "      <td>...</td>\n",
       "      <td>...</td>\n",
       "      <td>...</td>\n",
       "      <td>...</td>\n",
       "      <td>...</td>\n",
       "    </tr>\n",
       "    <tr>\n",
       "      <th>152625</th>\n",
       "      <td>alpaca_{idx}</td>\n",
       "      <td>단어는 동일하게 유지하되 의미가 달라지도록 다음 문장을 다시 작성합니다.</td>\n",
       "      <td>그녀가 해냈습니다.</td>\n",
       "      <td>그녀가 해냈나요?</td>\n",
       "      <td>[12657, 272, 2236, 276, 1251, 284, 272, 5026, ...</td>\n",
       "      <td>[1, 1, 1, 1, 1, 1, 1, 1, 1, 1, 1, 1, 1, 1, 1, ...</td>\n",
       "      <td>[12657, 272, 2236, 276, 1251, 284, 272, 5026, ...</td>\n",
       "    </tr>\n",
       "    <tr>\n",
       "      <th>152626</th>\n",
       "      <td>alpaca_{idx}</td>\n",
       "      <td>남미의 지정학적 상황을 요약하세요.</td>\n",
       "      <td></td>\n",
       "      <td>남미는 다양하고 복잡한 지정학적 현실을 가진 지역으로, 12개의 주권 국가가 있으며...</td>\n",
       "      <td>[12657, 272, 2236, 276, 1251, 284, 272, 5026, ...</td>\n",
       "      <td>[1, 1, 1, 1, 1, 1, 1, 1, 1, 1, 1, 1, 1, 1, 1, ...</td>\n",
       "      <td>[12657, 272, 2236, 276, 1251, 284, 272, 5026, ...</td>\n",
       "    </tr>\n",
       "    <tr>\n",
       "      <th>152627</th>\n",
       "      <td>vicuna_{idx}</td>\n",
       "      <td>다음과 같은 프롬프트 / 상상 스타일로 포맷합니다: \"은하, 나선, 우주, 성운, ...</td>\n",
       "      <td></td>\n",
       "      <td>P\"AWA 도미니카나, 화려함, 생동감, 장난기, 해변, 야자수, 일몰, 시구아 팔...</td>\n",
       "      <td>[12657, 272, 2236, 276, 1251, 284, 272, 5026, ...</td>\n",
       "      <td>[1, 1, 1, 1, 1, 1, 1, 1, 1, 1, 1, 1, 1, 1, 1, ...</td>\n",
       "      <td>[12657, 272, 2236, 276, 1251, 284, 272, 5026, ...</td>\n",
       "    </tr>\n",
       "    <tr>\n",
       "      <th>152628</th>\n",
       "      <td>vicuna_{idx}</td>\n",
       "      <td>C++를 통해 OpenGL을 공부하는 방법은?</td>\n",
       "      <td></td>\n",
       "      <td>C++를 통해 OpenGL을 학습하려면 다음 단계를 따르세요:1. C++ 프로그래밍...</td>\n",
       "      <td>[12657, 272, 2236, 276, 1251, 284, 272, 5026, ...</td>\n",
       "      <td>[1, 1, 1, 1, 1, 1, 1, 1, 1, 1, 1, 1, 1, 1, 1, ...</td>\n",
       "      <td>[12657, 272, 2236, 276, 1251, 284, 272, 5026, ...</td>\n",
       "    </tr>\n",
       "    <tr>\n",
       "      <th>152629</th>\n",
       "      <td>alpaca_{idx}</td>\n",
       "      <td>문장에서 관찰된 문자 \"s\"의 빈도를 구합니다.\\n\\n고양이는 계단을 뛰어 올라갔다.</td>\n",
       "      <td></td>\n",
       "      <td>\"고양이는 계단을 뛰어 올라갔다\"라는 문장에서 관찰된 문자 \"s\"의 빈도는 2입니다.</td>\n",
       "      <td>[12657, 272, 2236, 276, 1251, 284, 272, 5026, ...</td>\n",
       "      <td>[1, 1, 1, 1, 1, 1, 1, 1, 1, 1, 1, 1, 1, 1, 1, ...</td>\n",
       "      <td>[12657, 272, 2236, 276, 1251, 284, 272, 5026, ...</td>\n",
       "    </tr>\n",
       "  </tbody>\n",
       "</table>\n",
       "<p>152630 rows × 7 columns</p>\n",
       "</div>"
      ],
      "text/plain": [
       "                  id                                        instruction  \\\n",
       "0       alpaca_{idx}                     2020년 시가총액 기준 상위 5개 기술 기업 파악하기   \n",
       "1        dolly_{idx}                         세계에서 가장 오래된 도시의 이름은 무엇인가요?   \n",
       "2       vicuna_{idx}  이제 100개의 서로 다른 메시지 환자가 포함된 긴 목록을 알려드리겠습니다. 각각의...   \n",
       "3       vicuna_{idx}  이 글의 네 번째 부분입니다.인용{weber2009data}의 데이터 세트는 개막 ...   \n",
       "4       alpaca_{idx}                              태양 전지판의 조직 구조를 설명합니다.   \n",
       "...              ...                                                ...   \n",
       "152625  alpaca_{idx}           단어는 동일하게 유지하되 의미가 달라지도록 다음 문장을 다시 작성합니다.   \n",
       "152626  alpaca_{idx}                                남미의 지정학적 상황을 요약하세요.   \n",
       "152627  vicuna_{idx}  다음과 같은 프롬프트 / 상상 스타일로 포맷합니다: \"은하, 나선, 우주, 성운, ...   \n",
       "152628  vicuna_{idx}                          C++를 통해 OpenGL을 공부하는 방법은?   \n",
       "152629  alpaca_{idx}    문장에서 관찰된 문자 \"s\"의 빈도를 구합니다.\\n\\n고양이는 계단을 뛰어 올라갔다.   \n",
       "\n",
       "             input                                             output  \\\n",
       "0                   2020년 5월 기준 포브스 글로벌 2000 리스트와 시가총액에 따르면 상위 5개 ...   \n",
       "1                   세계에서 가장 오래된 도시 중 하나로 알려진 곳은 이집트의 룩소르(Luxor)입니다...   \n",
       "2                   다음은 각 메시지를 카테고리와 일치시키는 테이블입니다:\\r\\n\\r\\n| 메시지 | ...   \n",
       "3                                     다른 질문이 있거나 도움이 필요하면 언제든지 알려주세요.   \n",
       "4                   태양광 패널은 패널 표면에 격자형 패턴으로 배열된 여러 개의 태양광 셀로 구성됩니다...   \n",
       "...            ...                                                ...   \n",
       "152625  그녀가 해냈습니다.                                          그녀가 해냈나요?   \n",
       "152626              남미는 다양하고 복잡한 지정학적 현실을 가진 지역으로, 12개의 주권 국가가 있으며...   \n",
       "152627              P\"AWA 도미니카나, 화려함, 생동감, 장난기, 해변, 야자수, 일몰, 시구아 팔...   \n",
       "152628              C++를 통해 OpenGL을 학습하려면 다음 단계를 따르세요:1. C++ 프로그래밍...   \n",
       "152629                \"고양이는 계단을 뛰어 올라갔다\"라는 문장에서 관찰된 문자 \"s\"의 빈도는 2입니다.   \n",
       "\n",
       "                                                input_ids  \\\n",
       "0       [12657, 272, 2236, 276, 1251, 284, 272, 5026, ...   \n",
       "1       [12657, 272, 2236, 276, 1251, 284, 272, 5026, ...   \n",
       "2       [12657, 272, 2236, 276, 1251, 284, 272, 5026, ...   \n",
       "3       [12657, 272, 2236, 276, 1251, 284, 272, 5026, ...   \n",
       "4       [12657, 272, 2236, 276, 1251, 284, 272, 5026, ...   \n",
       "...                                                   ...   \n",
       "152625  [12657, 272, 2236, 276, 1251, 284, 272, 5026, ...   \n",
       "152626  [12657, 272, 2236, 276, 1251, 284, 272, 5026, ...   \n",
       "152627  [12657, 272, 2236, 276, 1251, 284, 272, 5026, ...   \n",
       "152628  [12657, 272, 2236, 276, 1251, 284, 272, 5026, ...   \n",
       "152629  [12657, 272, 2236, 276, 1251, 284, 272, 5026, ...   \n",
       "\n",
       "                                           attention_mask  \\\n",
       "0       [1, 1, 1, 1, 1, 1, 1, 1, 1, 1, 1, 1, 1, 1, 1, ...   \n",
       "1       [1, 1, 1, 1, 1, 1, 1, 1, 1, 1, 1, 1, 1, 1, 1, ...   \n",
       "2       [1, 1, 1, 1, 1, 1, 1, 1, 1, 1, 1, 1, 1, 1, 1, ...   \n",
       "3       [1, 1, 1, 1, 1, 1, 1, 1, 1, 1, 1, 1, 1, 1, 1, ...   \n",
       "4       [1, 1, 1, 1, 1, 1, 1, 1, 1, 1, 1, 1, 1, 1, 1, ...   \n",
       "...                                                   ...   \n",
       "152625  [1, 1, 1, 1, 1, 1, 1, 1, 1, 1, 1, 1, 1, 1, 1, ...   \n",
       "152626  [1, 1, 1, 1, 1, 1, 1, 1, 1, 1, 1, 1, 1, 1, 1, ...   \n",
       "152627  [1, 1, 1, 1, 1, 1, 1, 1, 1, 1, 1, 1, 1, 1, 1, ...   \n",
       "152628  [1, 1, 1, 1, 1, 1, 1, 1, 1, 1, 1, 1, 1, 1, 1, ...   \n",
       "152629  [1, 1, 1, 1, 1, 1, 1, 1, 1, 1, 1, 1, 1, 1, 1, ...   \n",
       "\n",
       "                                                   labels  \n",
       "0       [12657, 272, 2236, 276, 1251, 284, 272, 5026, ...  \n",
       "1       [12657, 272, 2236, 276, 1251, 284, 272, 5026, ...  \n",
       "2       [12657, 272, 2236, 276, 1251, 284, 272, 5026, ...  \n",
       "3       [12657, 272, 2236, 276, 1251, 284, 272, 5026, ...  \n",
       "4       [12657, 272, 2236, 276, 1251, 284, 272, 5026, ...  \n",
       "...                                                   ...  \n",
       "152625  [12657, 272, 2236, 276, 1251, 284, 272, 5026, ...  \n",
       "152626  [12657, 272, 2236, 276, 1251, 284, 272, 5026, ...  \n",
       "152627  [12657, 272, 2236, 276, 1251, 284, 272, 5026, ...  \n",
       "152628  [12657, 272, 2236, 276, 1251, 284, 272, 5026, ...  \n",
       "152629  [12657, 272, 2236, 276, 1251, 284, 272, 5026, ...  \n",
       "\n",
       "[152630 rows x 7 columns]"
      ]
     },
     "execution_count": 27,
     "metadata": {},
     "output_type": "execute_result"
    }
   ],
   "source": [
    "df_lm = lm_dataset.to_pandas()\n",
    "df_lm"
   ]
  },
  {
   "cell_type": "code",
   "execution_count": 34,
   "id": "98c86083",
   "metadata": {},
   "outputs": [
    {
     "data": {
      "text/html": [
       "<div>\n",
       "<style scoped>\n",
       "    .dataframe tbody tr th:only-of-type {\n",
       "        vertical-align: middle;\n",
       "    }\n",
       "\n",
       "    .dataframe tbody tr th {\n",
       "        vertical-align: top;\n",
       "    }\n",
       "\n",
       "    .dataframe thead th {\n",
       "        text-align: right;\n",
       "    }\n",
       "</style>\n",
       "<table border=\"1\" class=\"dataframe\">\n",
       "  <thead>\n",
       "    <tr style=\"text-align: right;\">\n",
       "      <th></th>\n",
       "      <th>id</th>\n",
       "      <th>instruction</th>\n",
       "      <th>input</th>\n",
       "      <th>output</th>\n",
       "      <th>input_ids</th>\n",
       "      <th>attention_mask</th>\n",
       "      <th>labels</th>\n",
       "      <th>input_ids_length</th>\n",
       "    </tr>\n",
       "  </thead>\n",
       "  <tbody>\n",
       "    <tr>\n",
       "      <th>0</th>\n",
       "      <td>alpaca_{idx}</td>\n",
       "      <td>2020년 시가총액 기준 상위 5개 기술 기업 파악하기</td>\n",
       "      <td></td>\n",
       "      <td>2020년 5월 기준 포브스 글로벌 2000 리스트와 시가총액에 따르면 상위 5개 ...</td>\n",
       "      <td>[12657, 272, 2236, 276, 1251, 284, 272, 5026, ...</td>\n",
       "      <td>[1, 1, 1, 1, 1, 1, 1, 1, 1, 1, 1, 1, 1, 1, 1, ...</td>\n",
       "      <td>[12657, 272, 2236, 276, 1251, 284, 272, 5026, ...</td>\n",
       "      <td>192</td>\n",
       "    </tr>\n",
       "    <tr>\n",
       "      <th>1</th>\n",
       "      <td>dolly_{idx}</td>\n",
       "      <td>세계에서 가장 오래된 도시의 이름은 무엇인가요?</td>\n",
       "      <td></td>\n",
       "      <td>세계에서 가장 오래된 도시 중 하나로 알려진 곳은 이집트의 룩소르(Luxor)입니다...</td>\n",
       "      <td>[12657, 272, 2236, 276, 1251, 284, 272, 5026, ...</td>\n",
       "      <td>[1, 1, 1, 1, 1, 1, 1, 1, 1, 1, 1, 1, 1, 1, 1, ...</td>\n",
       "      <td>[12657, 272, 2236, 276, 1251, 284, 272, 5026, ...</td>\n",
       "      <td>143</td>\n",
       "    </tr>\n",
       "    <tr>\n",
       "      <th>2</th>\n",
       "      <td>vicuna_{idx}</td>\n",
       "      <td>이제 100개의 서로 다른 메시지 환자가 포함된 긴 목록을 알려드리겠습니다. 각각의...</td>\n",
       "      <td></td>\n",
       "      <td>다음은 각 메시지를 카테고리와 일치시키는 테이블입니다:\\r\\n\\r\\n| 메시지 | ...</td>\n",
       "      <td>[12657, 272, 2236, 276, 1251, 284, 272, 5026, ...</td>\n",
       "      <td>[1, 1, 1, 1, 1, 1, 1, 1, 1, 1, 1, 1, 1, 1, 1, ...</td>\n",
       "      <td>[12657, 272, 2236, 276, 1251, 284, 272, 5026, ...</td>\n",
       "      <td>2048</td>\n",
       "    </tr>\n",
       "    <tr>\n",
       "      <th>3</th>\n",
       "      <td>vicuna_{idx}</td>\n",
       "      <td>이 글의 네 번째 부분입니다.인용{weber2009data}의 데이터 세트는 개막 ...</td>\n",
       "      <td></td>\n",
       "      <td>다른 질문이 있거나 도움이 필요하면 언제든지 알려주세요.</td>\n",
       "      <td>[12657, 272, 2236, 276, 1251, 284, 272, 5026, ...</td>\n",
       "      <td>[1, 1, 1, 1, 1, 1, 1, 1, 1, 1, 1, 1, 1, 1, 1, ...</td>\n",
       "      <td>[12657, 272, 2236, 276, 1251, 284, 272, 5026, ...</td>\n",
       "      <td>1013</td>\n",
       "    </tr>\n",
       "    <tr>\n",
       "      <th>4</th>\n",
       "      <td>alpaca_{idx}</td>\n",
       "      <td>태양 전지판의 조직 구조를 설명합니다.</td>\n",
       "      <td></td>\n",
       "      <td>태양광 패널은 패널 표면에 격자형 패턴으로 배열된 여러 개의 태양광 셀로 구성됩니다...</td>\n",
       "      <td>[12657, 272, 2236, 276, 1251, 284, 272, 5026, ...</td>\n",
       "      <td>[1, 1, 1, 1, 1, 1, 1, 1, 1, 1, 1, 1, 1, 1, 1, ...</td>\n",
       "      <td>[12657, 272, 2236, 276, 1251, 284, 272, 5026, ...</td>\n",
       "      <td>363</td>\n",
       "    </tr>\n",
       "    <tr>\n",
       "      <th>...</th>\n",
       "      <td>...</td>\n",
       "      <td>...</td>\n",
       "      <td>...</td>\n",
       "      <td>...</td>\n",
       "      <td>...</td>\n",
       "      <td>...</td>\n",
       "      <td>...</td>\n",
       "      <td>...</td>\n",
       "    </tr>\n",
       "    <tr>\n",
       "      <th>152625</th>\n",
       "      <td>alpaca_{idx}</td>\n",
       "      <td>단어는 동일하게 유지하되 의미가 달라지도록 다음 문장을 다시 작성합니다.</td>\n",
       "      <td>그녀가 해냈습니다.</td>\n",
       "      <td>그녀가 해냈나요?</td>\n",
       "      <td>[12657, 272, 2236, 276, 1251, 284, 272, 5026, ...</td>\n",
       "      <td>[1, 1, 1, 1, 1, 1, 1, 1, 1, 1, 1, 1, 1, 1, 1, ...</td>\n",
       "      <td>[12657, 272, 2236, 276, 1251, 284, 272, 5026, ...</td>\n",
       "      <td>96</td>\n",
       "    </tr>\n",
       "    <tr>\n",
       "      <th>152626</th>\n",
       "      <td>alpaca_{idx}</td>\n",
       "      <td>남미의 지정학적 상황을 요약하세요.</td>\n",
       "      <td></td>\n",
       "      <td>남미는 다양하고 복잡한 지정학적 현실을 가진 지역으로, 12개의 주권 국가가 있으며...</td>\n",
       "      <td>[12657, 272, 2236, 276, 1251, 284, 272, 5026, ...</td>\n",
       "      <td>[1, 1, 1, 1, 1, 1, 1, 1, 1, 1, 1, 1, 1, 1, 1, ...</td>\n",
       "      <td>[12657, 272, 2236, 276, 1251, 284, 272, 5026, ...</td>\n",
       "      <td>353</td>\n",
       "    </tr>\n",
       "    <tr>\n",
       "      <th>152627</th>\n",
       "      <td>vicuna_{idx}</td>\n",
       "      <td>다음과 같은 프롬프트 / 상상 스타일로 포맷합니다: \"은하, 나선, 우주, 성운, ...</td>\n",
       "      <td></td>\n",
       "      <td>P\"AWA 도미니카나, 화려함, 생동감, 장난기, 해변, 야자수, 일몰, 시구아 팔...</td>\n",
       "      <td>[12657, 272, 2236, 276, 1251, 284, 272, 5026, ...</td>\n",
       "      <td>[1, 1, 1, 1, 1, 1, 1, 1, 1, 1, 1, 1, 1, 1, 1, ...</td>\n",
       "      <td>[12657, 272, 2236, 276, 1251, 284, 272, 5026, ...</td>\n",
       "      <td>162</td>\n",
       "    </tr>\n",
       "    <tr>\n",
       "      <th>152628</th>\n",
       "      <td>vicuna_{idx}</td>\n",
       "      <td>C++를 통해 OpenGL을 공부하는 방법은?</td>\n",
       "      <td></td>\n",
       "      <td>C++를 통해 OpenGL을 학습하려면 다음 단계를 따르세요:1. C++ 프로그래밍...</td>\n",
       "      <td>[12657, 272, 2236, 276, 1251, 284, 272, 5026, ...</td>\n",
       "      <td>[1, 1, 1, 1, 1, 1, 1, 1, 1, 1, 1, 1, 1, 1, 1, ...</td>\n",
       "      <td>[12657, 272, 2236, 276, 1251, 284, 272, 5026, ...</td>\n",
       "      <td>605</td>\n",
       "    </tr>\n",
       "    <tr>\n",
       "      <th>152629</th>\n",
       "      <td>alpaca_{idx}</td>\n",
       "      <td>문장에서 관찰된 문자 \"s\"의 빈도를 구합니다.\\n\\n고양이는 계단을 뛰어 올라갔다.</td>\n",
       "      <td></td>\n",
       "      <td>\"고양이는 계단을 뛰어 올라갔다\"라는 문장에서 관찰된 문자 \"s\"의 빈도는 2입니다.</td>\n",
       "      <td>[12657, 272, 2236, 276, 1251, 284, 272, 5026, ...</td>\n",
       "      <td>[1, 1, 1, 1, 1, 1, 1, 1, 1, 1, 1, 1, 1, 1, 1, ...</td>\n",
       "      <td>[12657, 272, 2236, 276, 1251, 284, 272, 5026, ...</td>\n",
       "      <td>90</td>\n",
       "    </tr>\n",
       "  </tbody>\n",
       "</table>\n",
       "<p>152630 rows × 8 columns</p>\n",
       "</div>"
      ],
      "text/plain": [
       "                  id                                        instruction  \\\n",
       "0       alpaca_{idx}                     2020년 시가총액 기준 상위 5개 기술 기업 파악하기   \n",
       "1        dolly_{idx}                         세계에서 가장 오래된 도시의 이름은 무엇인가요?   \n",
       "2       vicuna_{idx}  이제 100개의 서로 다른 메시지 환자가 포함된 긴 목록을 알려드리겠습니다. 각각의...   \n",
       "3       vicuna_{idx}  이 글의 네 번째 부분입니다.인용{weber2009data}의 데이터 세트는 개막 ...   \n",
       "4       alpaca_{idx}                              태양 전지판의 조직 구조를 설명합니다.   \n",
       "...              ...                                                ...   \n",
       "152625  alpaca_{idx}           단어는 동일하게 유지하되 의미가 달라지도록 다음 문장을 다시 작성합니다.   \n",
       "152626  alpaca_{idx}                                남미의 지정학적 상황을 요약하세요.   \n",
       "152627  vicuna_{idx}  다음과 같은 프롬프트 / 상상 스타일로 포맷합니다: \"은하, 나선, 우주, 성운, ...   \n",
       "152628  vicuna_{idx}                          C++를 통해 OpenGL을 공부하는 방법은?   \n",
       "152629  alpaca_{idx}    문장에서 관찰된 문자 \"s\"의 빈도를 구합니다.\\n\\n고양이는 계단을 뛰어 올라갔다.   \n",
       "\n",
       "             input                                             output  \\\n",
       "0                   2020년 5월 기준 포브스 글로벌 2000 리스트와 시가총액에 따르면 상위 5개 ...   \n",
       "1                   세계에서 가장 오래된 도시 중 하나로 알려진 곳은 이집트의 룩소르(Luxor)입니다...   \n",
       "2                   다음은 각 메시지를 카테고리와 일치시키는 테이블입니다:\\r\\n\\r\\n| 메시지 | ...   \n",
       "3                                     다른 질문이 있거나 도움이 필요하면 언제든지 알려주세요.   \n",
       "4                   태양광 패널은 패널 표면에 격자형 패턴으로 배열된 여러 개의 태양광 셀로 구성됩니다...   \n",
       "...            ...                                                ...   \n",
       "152625  그녀가 해냈습니다.                                          그녀가 해냈나요?   \n",
       "152626              남미는 다양하고 복잡한 지정학적 현실을 가진 지역으로, 12개의 주권 국가가 있으며...   \n",
       "152627              P\"AWA 도미니카나, 화려함, 생동감, 장난기, 해변, 야자수, 일몰, 시구아 팔...   \n",
       "152628              C++를 통해 OpenGL을 학습하려면 다음 단계를 따르세요:1. C++ 프로그래밍...   \n",
       "152629                \"고양이는 계단을 뛰어 올라갔다\"라는 문장에서 관찰된 문자 \"s\"의 빈도는 2입니다.   \n",
       "\n",
       "                                                input_ids  \\\n",
       "0       [12657, 272, 2236, 276, 1251, 284, 272, 5026, ...   \n",
       "1       [12657, 272, 2236, 276, 1251, 284, 272, 5026, ...   \n",
       "2       [12657, 272, 2236, 276, 1251, 284, 272, 5026, ...   \n",
       "3       [12657, 272, 2236, 276, 1251, 284, 272, 5026, ...   \n",
       "4       [12657, 272, 2236, 276, 1251, 284, 272, 5026, ...   \n",
       "...                                                   ...   \n",
       "152625  [12657, 272, 2236, 276, 1251, 284, 272, 5026, ...   \n",
       "152626  [12657, 272, 2236, 276, 1251, 284, 272, 5026, ...   \n",
       "152627  [12657, 272, 2236, 276, 1251, 284, 272, 5026, ...   \n",
       "152628  [12657, 272, 2236, 276, 1251, 284, 272, 5026, ...   \n",
       "152629  [12657, 272, 2236, 276, 1251, 284, 272, 5026, ...   \n",
       "\n",
       "                                           attention_mask  \\\n",
       "0       [1, 1, 1, 1, 1, 1, 1, 1, 1, 1, 1, 1, 1, 1, 1, ...   \n",
       "1       [1, 1, 1, 1, 1, 1, 1, 1, 1, 1, 1, 1, 1, 1, 1, ...   \n",
       "2       [1, 1, 1, 1, 1, 1, 1, 1, 1, 1, 1, 1, 1, 1, 1, ...   \n",
       "3       [1, 1, 1, 1, 1, 1, 1, 1, 1, 1, 1, 1, 1, 1, 1, ...   \n",
       "4       [1, 1, 1, 1, 1, 1, 1, 1, 1, 1, 1, 1, 1, 1, 1, ...   \n",
       "...                                                   ...   \n",
       "152625  [1, 1, 1, 1, 1, 1, 1, 1, 1, 1, 1, 1, 1, 1, 1, ...   \n",
       "152626  [1, 1, 1, 1, 1, 1, 1, 1, 1, 1, 1, 1, 1, 1, 1, ...   \n",
       "152627  [1, 1, 1, 1, 1, 1, 1, 1, 1, 1, 1, 1, 1, 1, 1, ...   \n",
       "152628  [1, 1, 1, 1, 1, 1, 1, 1, 1, 1, 1, 1, 1, 1, 1, ...   \n",
       "152629  [1, 1, 1, 1, 1, 1, 1, 1, 1, 1, 1, 1, 1, 1, 1, ...   \n",
       "\n",
       "                                                   labels  input_ids_length  \n",
       "0       [12657, 272, 2236, 276, 1251, 284, 272, 5026, ...               192  \n",
       "1       [12657, 272, 2236, 276, 1251, 284, 272, 5026, ...               143  \n",
       "2       [12657, 272, 2236, 276, 1251, 284, 272, 5026, ...              2048  \n",
       "3       [12657, 272, 2236, 276, 1251, 284, 272, 5026, ...              1013  \n",
       "4       [12657, 272, 2236, 276, 1251, 284, 272, 5026, ...               363  \n",
       "...                                                   ...               ...  \n",
       "152625  [12657, 272, 2236, 276, 1251, 284, 272, 5026, ...                96  \n",
       "152626  [12657, 272, 2236, 276, 1251, 284, 272, 5026, ...               353  \n",
       "152627  [12657, 272, 2236, 276, 1251, 284, 272, 5026, ...               162  \n",
       "152628  [12657, 272, 2236, 276, 1251, 284, 272, 5026, ...               605  \n",
       "152629  [12657, 272, 2236, 276, 1251, 284, 272, 5026, ...                90  \n",
       "\n",
       "[152630 rows x 8 columns]"
      ]
     },
     "execution_count": 34,
     "metadata": {},
     "output_type": "execute_result"
    }
   ],
   "source": [
    "# 'input_ids' 칼럼의 각 벡터의 길이를 새로운 칼럼 'input_ids_length'에 저장\n",
    "df_lm['input_ids_length'] = df_lm['input_ids'].apply(len)\n",
    "\n",
    "# 새로운 칼럼을 확인\n",
    "df_lm"
   ]
  },
  {
   "cell_type": "markdown",
   "id": "906d77dd",
   "metadata": {},
   "source": [
    "#### 토크나이징 벡터의 최대 길이는 설정한 cutoff_len로 고정됨"
   ]
  },
  {
   "cell_type": "code",
   "execution_count": 38,
   "id": "589d4518",
   "metadata": {},
   "outputs": [
    {
     "name": "stdout",
     "output_type": "stream",
     "text": [
      "The maximum length of 'input_ids' is 2048\n"
     ]
    }
   ],
   "source": [
    "# 'input_ids_length' 칼럼의 최대값을 확인\n",
    "max_value = df_lm['input_ids_length'].max()\n",
    "\n",
    "print(f\"The maximum length of 'input_ids' is {max_value}\")"
   ]
  },
  {
   "cell_type": "markdown",
   "id": "5bdb5742-ded5-4914-8c64-ad13e06dd548",
   "metadata": {},
   "source": [
    "<br>\n",
    "\n",
    "## 3. Save dataset to S3\n",
    "---"
   ]
  },
  {
   "cell_type": "code",
   "execution_count": 39,
   "id": "e1328ad7-c912-4da5-a905-2859e2276cfc",
   "metadata": {
    "tags": []
   },
   "outputs": [
    {
     "name": "stdout",
     "output_type": "stream",
     "text": [
      "SageMaker role arn: arn:aws:iam::740128158828:role/SagemakerWorkshopFullAccessRole\n",
      "SageMaker bucket: sagemaker-us-east-1-740128158828\n",
      "SageMaker session region: us-east-1\n"
     ]
    }
   ],
   "source": [
    "import sagemaker\n",
    "import boto3\n",
    "sess = sagemaker.Session()\n",
    "region = boto3.Session().region_name\n",
    "# sagemaker session bucket -> used for uploading data, models and logs\n",
    "# sagemaker will automatically create this bucket if it not exists\n",
    "bucket = None\n",
    "if bucket is None and sess is not None:\n",
    "    # set to default bucket if a bucket name is not given\n",
    "    bucket = sess.default_bucket()\n",
    "\n",
    "try:\n",
    "    role = sagemaker.get_execution_role()\n",
    "except ValueError:\n",
    "    iam = boto3.client('iam')\n",
    "    role = iam.get_role(RoleName='sagemaker_execution_role')['Role']['Arn']\n",
    "\n",
    "sess = sagemaker.Session(default_bucket=bucket)\n",
    "\n",
    "print(f\"SageMaker role arn: {role}\")\n",
    "print(f\"SageMaker bucket: {sess.default_bucket()}\")\n",
    "print(f\"SageMaker session region: {sess.boto_region_name}\")"
   ]
  },
  {
   "cell_type": "code",
   "execution_count": 40,
   "id": "1620deb3-6020-4a56-838e-6bf56dd50e9f",
   "metadata": {
    "tags": []
   },
   "outputs": [
    {
     "name": "stdout",
     "output_type": "stream",
     "text": [
      "S3 data path: \n",
      " s3://sagemaker-us-east-1-740128158828/ko-llms/peft/kullm-polyglot-12-8b-v2/dataset/alpaca-train\n",
      "S3 pretrained model path: \n",
      " s3://sagemaker-us-east-1-740128158828/ko-llms/peft/huggingface-models/kullm-polyglot-12-8b-v2/\n"
     ]
    }
   ],
   "source": [
    "bucket_prefix = 'ko-llms/peft'\n",
    "dataset_prefix = 'alpaca-train'\n",
    "s3_data_path = f\"s3://{bucket}/{bucket_prefix}/{model_name}/dataset/{dataset_prefix}\"\n",
    "s3_pretrained_model_path = f\"s3://{bucket}/{bucket_prefix}/huggingface-models/{model_name}/\"\n",
    "print(f\"S3 data path: \\n {s3_data_path}\")\n",
    "print(f\"S3 pretrained model path: \\n {s3_pretrained_model_path}\")"
   ]
  },
  {
   "cell_type": "code",
   "execution_count": 41,
   "id": "068c198f-c0a5-40f4-85fe-74c286903cb4",
   "metadata": {
    "tags": []
   },
   "outputs": [
    {
     "data": {
      "application/vnd.jupyter.widget-view+json": {
       "model_id": "81a861c046034eb2bc5bd77666c96219",
       "version_major": 2,
       "version_minor": 0
      },
      "text/plain": [
       "Saving the dataset (0/3 shards):   0%|          | 0/152630 [00:00<?, ? examples/s]"
      ]
     },
     "metadata": {},
     "output_type": "display_data"
    },
    {
     "data": {
      "application/vnd.jupyter.widget-view+json": {
       "model_id": "4978f4156b66463098f22bf124c27bf2",
       "version_major": 2,
       "version_minor": 0
      },
      "text/plain": [
       "Saving the dataset (0/1 shards):   0%|          | 0/50 [00:00<?, ? examples/s]"
      ]
     },
     "metadata": {},
     "output_type": "display_data"
    },
    {
     "name": "stdout",
     "output_type": "stream",
     "text": [
      "Number of samples for debugging: 50\n"
     ]
    }
   ],
   "source": [
    "num_debug_samples = 50\n",
    "lm_dataset.save_to_disk(s3_data_path)\n",
    "lm_dataset.select(range(num_debug_samples)).save_to_disk(dataset_prefix)\n",
    "print(f\"Number of samples for debugging: {num_debug_samples}\")"
   ]
  },
  {
   "cell_type": "code",
   "execution_count": 42,
   "id": "8dd9b5ce-de81-4218-963f-7c9fa086a5ab",
   "metadata": {
    "tags": []
   },
   "outputs": [
    {
     "name": "stdout",
     "output_type": "stream",
     "text": [
      "Stored 'bucket_prefix' (str)\n",
      "Stored 'dataset_prefix' (str)\n",
      "Stored 's3_data_path' (str)\n"
     ]
    }
   ],
   "source": [
    "%store bucket_prefix dataset_prefix s3_data_path"
   ]
  },
  {
   "cell_type": "code",
   "execution_count": null,
   "id": "96e2515f",
   "metadata": {},
   "outputs": [],
   "source": []
  }
 ],
 "metadata": {
  "kernelspec": {
   "display_name": "conda_pytorch_p310",
   "language": "python",
   "name": "conda_pytorch_p310"
  },
  "language_info": {
   "codemirror_mode": {
    "name": "ipython",
    "version": 3
   },
   "file_extension": ".py",
   "mimetype": "text/x-python",
   "name": "python",
   "nbconvert_exporter": "python",
   "pygments_lexer": "ipython3",
   "version": "3.10.10"
  }
 },
 "nbformat": 4,
 "nbformat_minor": 5
}
