{
 "cells": [
  {
   "cell_type": "markdown",
   "id": "0dd12191-6266-481a-aa03-a0f13e2ea253",
   "metadata": {},
   "source": [
    "# Korean LLM (Large Language Model) Inference\n",
    "---\n",
    "\n",
    "### Model: [KoAlpaca-KoRWKV-6B](https://huggingface.co/beomi/KoAlpaca-KoRWKV-6B)\n",
    "\n",
    "- GitHub: https://github.com/Beomi/KoAlpaca"
   ]
  },
  {
   "cell_type": "code",
   "execution_count": 1,
   "id": "5a056d19-3339-4778-b73d-f5fe14d50ae0",
   "metadata": {
    "tags": []
   },
   "outputs": [],
   "source": [
    "%load_ext autoreload\n",
    "%autoreload 2\n",
    "import sys\n",
    "sys.path.append('../utils')\n",
    "sys.path.append('../templates') "
   ]
  },
  {
   "cell_type": "code",
   "execution_count": 2,
   "id": "3190812b-be85-4ef7-8d28-fa04bdb0ba86",
   "metadata": {
    "tags": []
   },
   "outputs": [],
   "source": [
    "!pip install -qU boto3 huggingface_hub sagemaker langchain deepspeed \n",
    "!pip install -qU bitsandbytes accelerate peft"
   ]
  },
  {
   "cell_type": "code",
   "execution_count": 3,
   "id": "8a104756-a389-403c-bb3a-b512ed6b948d",
   "metadata": {
    "tags": []
   },
   "outputs": [
    {
     "data": {
      "application/vnd.jupyter.widget-view+json": {
       "model_id": "54e09a0f5f93463ea0abeffac9510194",
       "version_major": 2,
       "version_minor": 0
      },
      "text/plain": [
       "Fetching 25 files:   0%|          | 0/25 [00:00<?, ?it/s]"
      ]
     },
     "metadata": {},
     "output_type": "display_data"
    },
    {
     "data": {
      "application/vnd.jupyter.widget-view+json": {
       "model_id": "d12ec1dff1f64d20886f737c8387407e",
       "version_major": 2,
       "version_minor": 0
      },
      "text/plain": [
       "Downloading (…)bf97414b/config.json:   0%|          | 0.00/501 [00:00<?, ?B/s]"
      ]
     },
     "metadata": {},
     "output_type": "display_data"
    },
    {
     "data": {
      "application/vnd.jupyter.widget-view+json": {
       "model_id": "c3adb4b2173b4c8daed3fc5e569f4181",
       "version_major": 2,
       "version_minor": 0
      },
      "text/plain": [
       "Downloading (…)neration_config.json:   0%|          | 0.00/111 [00:00<?, ?B/s]"
      ]
     },
     "metadata": {},
     "output_type": "display_data"
    },
    {
     "data": {
      "application/vnd.jupyter.widget-view+json": {
       "model_id": "298e256e81fd40fdb8bdb39a01a79e31",
       "version_major": 2,
       "version_minor": 0
      },
      "text/plain": [
       "Downloading (…)14b/all_results.json:   0%|          | 0.00/193 [00:00<?, ?B/s]"
      ]
     },
     "metadata": {},
     "output_type": "display_data"
    },
    {
     "data": {
      "application/vnd.jupyter.widget-view+json": {
       "model_id": "542f5ec4bd1b4d8db0e6e7d1c0fccd78",
       "version_major": 2,
       "version_minor": 0
      },
      "text/plain": [
       "Downloading (…)of-00015.safetensors:   0%|          | 0.00/873M [00:00<?, ?B/s]"
      ]
     },
     "metadata": {},
     "output_type": "display_data"
    },
    {
     "data": {
      "application/vnd.jupyter.widget-view+json": {
       "model_id": "97a607c9a5a14aa8ab814859afc950ac",
       "version_major": 2,
       "version_minor": 0
      },
      "text/plain": [
       "Downloading (…)of-00015.safetensors:   0%|          | 0.00/873M [00:00<?, ?B/s]"
      ]
     },
     "metadata": {},
     "output_type": "display_data"
    },
    {
     "data": {
      "application/vnd.jupyter.widget-view+json": {
       "model_id": "5e9e0733482747b4a9eb1ef27ec4d5ab",
       "version_major": 2,
       "version_minor": 0
      },
      "text/plain": [
       "Downloading (…)of-00015.safetensors:   0%|          | 0.00/873M [00:00<?, ?B/s]"
      ]
     },
     "metadata": {},
     "output_type": "display_data"
    },
    {
     "data": {
      "application/vnd.jupyter.widget-view+json": {
       "model_id": "4ae12ab499ce42fca12fcf48060221c5",
       "version_major": 2,
       "version_minor": 0
      },
      "text/plain": [
       "Downloading (…)of-00015.safetensors:   0%|          | 0.00/873M [00:00<?, ?B/s]"
      ]
     },
     "metadata": {},
     "output_type": "display_data"
    },
    {
     "data": {
      "application/vnd.jupyter.widget-view+json": {
       "model_id": "ec3437ff5c8a432c8cc94f984c9a7950",
       "version_major": 2,
       "version_minor": 0
      },
      "text/plain": [
       "Downloading (…)of-00015.safetensors:   0%|          | 0.00/873M [00:00<?, ?B/s]"
      ]
     },
     "metadata": {},
     "output_type": "display_data"
    },
    {
     "data": {
      "application/vnd.jupyter.widget-view+json": {
       "model_id": "e5b594adbf30438d83961b0966b92494",
       "version_major": 2,
       "version_minor": 0
      },
      "text/plain": [
       "Downloading (…)of-00015.safetensors:   0%|          | 0.00/997M [00:00<?, ?B/s]"
      ]
     },
     "metadata": {},
     "output_type": "display_data"
    },
    {
     "data": {
      "application/vnd.jupyter.widget-view+json": {
       "model_id": "b791a10499eb45718e0531b3b9bd0320",
       "version_major": 2,
       "version_minor": 0
      },
      "text/plain": [
       "Downloading (…)of-00015.safetensors:   0%|          | 0.00/873M [00:00<?, ?B/s]"
      ]
     },
     "metadata": {},
     "output_type": "display_data"
    },
    {
     "data": {
      "application/vnd.jupyter.widget-view+json": {
       "model_id": "7fc3df2ea4e8478481adcaac5114ff1e",
       "version_major": 2,
       "version_minor": 0
      },
      "text/plain": [
       "Downloading (…)of-00015.safetensors:   0%|          | 0.00/873M [00:00<?, ?B/s]"
      ]
     },
     "metadata": {},
     "output_type": "display_data"
    },
    {
     "data": {
      "application/vnd.jupyter.widget-view+json": {
       "model_id": "c2926acc879040bf8318c10f150c3a7d",
       "version_major": 2,
       "version_minor": 0
      },
      "text/plain": [
       "Downloading (…)of-00015.safetensors:   0%|          | 0.00/873M [00:00<?, ?B/s]"
      ]
     },
     "metadata": {},
     "output_type": "display_data"
    },
    {
     "data": {
      "application/vnd.jupyter.widget-view+json": {
       "model_id": "a3430189d05441d9a55fc3bc0c627ec5",
       "version_major": 2,
       "version_minor": 0
      },
      "text/plain": [
       "Downloading (…)of-00015.safetensors:   0%|          | 0.00/873M [00:00<?, ?B/s]"
      ]
     },
     "metadata": {},
     "output_type": "display_data"
    },
    {
     "data": {
      "application/vnd.jupyter.widget-view+json": {
       "model_id": "1986618a4b6841568cbd57ba2811b1c4",
       "version_major": 2,
       "version_minor": 0
      },
      "text/plain": [
       "Downloading (…)of-00015.safetensors:   0%|          | 0.00/873M [00:00<?, ?B/s]"
      ]
     },
     "metadata": {},
     "output_type": "display_data"
    },
    {
     "data": {
      "application/vnd.jupyter.widget-view+json": {
       "model_id": "e8524d19005c46faa0451242cbb9dc56",
       "version_major": 2,
       "version_minor": 0
      },
      "text/plain": [
       "Downloading (…)of-00015.safetensors:   0%|          | 0.00/873M [00:00<?, ?B/s]"
      ]
     },
     "metadata": {},
     "output_type": "display_data"
    },
    {
     "data": {
      "application/vnd.jupyter.widget-view+json": {
       "model_id": "08e6bddef8f64ffea1887c98996916b5",
       "version_major": 2,
       "version_minor": 0
      },
      "text/plain": [
       "Downloading (…)of-00015.safetensors:   0%|          | 0.00/873M [00:00<?, ?B/s]"
      ]
     },
     "metadata": {},
     "output_type": "display_data"
    },
    {
     "data": {
      "application/vnd.jupyter.widget-view+json": {
       "model_id": "b12c8c9075bf4186a8b6993c1abc7c3e",
       "version_major": 2,
       "version_minor": 0
      },
      "text/plain": [
       "Downloading (…)of-00015.safetensors:   0%|          | 0.00/728M [00:00<?, ?B/s]"
      ]
     },
     "metadata": {},
     "output_type": "display_data"
    },
    {
     "data": {
      "application/vnd.jupyter.widget-view+json": {
       "model_id": "4a9025e1322045498c8df242f7f1a729",
       "version_major": 2,
       "version_minor": 0
      },
      "text/plain": [
       "Downloading (…)of-00015.safetensors:   0%|          | 0.00/873M [00:00<?, ?B/s]"
      ]
     },
     "metadata": {},
     "output_type": "display_data"
    },
    {
     "data": {
      "application/vnd.jupyter.widget-view+json": {
       "model_id": "5a00e3e882ff4728b8bedf57a5b32e02",
       "version_major": 2,
       "version_minor": 0
      },
      "text/plain": [
       "Downloading (…)fetensors.index.json:   0%|          | 0.00/40.6k [00:00<?, ?B/s]"
      ]
     },
     "metadata": {},
     "output_type": "display_data"
    },
    {
     "data": {
      "application/vnd.jupyter.widget-view+json": {
       "model_id": "8a75372cf2b04db89c7fc181a7b5f19a",
       "version_major": 2,
       "version_minor": 0
      },
      "text/plain": [
       "Downloading (…)model.bin.index.json:   0%|          | 0.00/40.6k [00:00<?, ?B/s]"
      ]
     },
     "metadata": {},
     "output_type": "display_data"
    },
    {
     "data": {
      "application/vnd.jupyter.widget-view+json": {
       "model_id": "65ae135061ef4e1b9cf3d0208ac83ca7",
       "version_major": 2,
       "version_minor": 0
      },
      "text/plain": [
       "Downloading (…)cial_tokens_map.json:   0%|          | 0.00/93.0 [00:00<?, ?B/s]"
      ]
     },
     "metadata": {},
     "output_type": "display_data"
    },
    {
     "data": {
      "application/vnd.jupyter.widget-view+json": {
       "model_id": "d6b1ab72a3024f8abf472390c9a61fa3",
       "version_major": 2,
       "version_minor": 0
      },
      "text/plain": [
       "Downloading (…)7414b/tokenizer.json:   0%|          | 0.00/2.69M [00:00<?, ?B/s]"
      ]
     },
     "metadata": {},
     "output_type": "display_data"
    },
    {
     "data": {
      "application/vnd.jupyter.widget-view+json": {
       "model_id": "6447d739b64d49689eedf1e1f7aaa052",
       "version_major": 2,
       "version_minor": 0
      },
      "text/plain": [
       "Downloading (…)okenizer_config.json:   0%|          | 0.00/236 [00:00<?, ?B/s]"
      ]
     },
     "metadata": {},
     "output_type": "display_data"
    },
    {
     "data": {
      "application/vnd.jupyter.widget-view+json": {
       "model_id": "52d89155477b49c2a8701eff38e5bfd8",
       "version_major": 2,
       "version_minor": 0
      },
      "text/plain": [
       "Downloading (…)b/trainer_state.json:   0%|          | 0.00/731 [00:00<?, ?B/s]"
      ]
     },
     "metadata": {},
     "output_type": "display_data"
    }
   ],
   "source": [
    "import os\n",
    "from pathlib import Path\n",
    "from huggingface_hub import snapshot_download\n",
    "\n",
    "# - This will download the model into the current directory where ever the jupyter notebook is running\n",
    "local_model_path = Path(\"/home/ec2-user/SageMaker/hf_cache\")\n",
    "local_model_path.mkdir(exist_ok=True)\n",
    "model_id = \"beomi/KoAlpaca-KoRWKV-6B\"\n",
    "\n",
    "# Only download pytorch checkpoint files\n",
    "allow_patterns = [\"*.json\", \"*.pt\", \"*.txt\", \"*.model\", \"*.safetensors\"]\n",
    "\n",
    "# - Leverage the snapshot library to donload the model since the model is stored in repository using LFS\n",
    "model_download_path = snapshot_download(\n",
    "    repo_id=model_id,\n",
    "    cache_dir=local_model_path,\n",
    "    allow_patterns=allow_patterns,\n",
    ")"
   ]
  },
  {
   "cell_type": "code",
   "execution_count": 5,
   "id": "96c114d2-aaf4-4ca1-be44-32df2e2b3f6e",
   "metadata": {
    "tags": []
   },
   "outputs": [
    {
     "name": "stdout",
     "output_type": "stream",
     "text": [
      "[2023-07-24 01:18:59,188] [INFO] [real_accelerator.py:133:get_accelerator] Setting ds_accelerator to cuda (auto detect)\n"
     ]
    },
    {
     "data": {
      "application/vnd.jupyter.widget-view+json": {
       "model_id": "b54b8d19d6114a69b55ffb33f4fbd7f9",
       "version_major": 2,
       "version_minor": 0
      },
      "text/plain": [
       "Loading checkpoint shards:   0%|          | 0/15 [00:00<?, ?it/s]"
      ]
     },
     "metadata": {},
     "output_type": "display_data"
    },
    {
     "name": "stdout",
     "output_type": "stream",
     "text": [
      "[2023-07-24 01:19:23,256] [INFO] [logging.py:96:log_dist] [Rank -1] DeepSpeed info: version=0.10.0, git-hash=unknown, git-branch=unknown\n",
      "[2023-07-24 01:19:23,258] [INFO] [logging.py:96:log_dist] [Rank -1] quantize_bits = 8 mlp_extra_grouping = False, quantize_groups = 1\n"
     ]
    },
    {
     "data": {
      "application/vnd.jupyter.widget-view+json": {
       "model_id": "02ce02149b2e42a6b9ffe34a522e2f4d",
       "version_major": 2,
       "version_minor": 0
      },
      "text/plain": [
       "Downloading (…)okenizer_config.json:   0%|          | 0.00/236 [00:00<?, ?B/s]"
      ]
     },
     "metadata": {},
     "output_type": "display_data"
    },
    {
     "data": {
      "application/vnd.jupyter.widget-view+json": {
       "model_id": "99220e9d10514cd5a265a7f2ed448ab0",
       "version_major": 2,
       "version_minor": 0
      },
      "text/plain": [
       "Downloading (…)/main/tokenizer.json:   0%|          | 0.00/2.69M [00:00<?, ?B/s]"
      ]
     },
     "metadata": {},
     "output_type": "display_data"
    },
    {
     "data": {
      "application/vnd.jupyter.widget-view+json": {
       "model_id": "bee8a02551984be987512e0c8b61d7a3",
       "version_major": 2,
       "version_minor": 0
      },
      "text/plain": [
       "Downloading (…)cial_tokens_map.json:   0%|          | 0.00/93.0 [00:00<?, ?B/s]"
      ]
     },
     "metadata": {},
     "output_type": "display_data"
    },
    {
     "name": "stderr",
     "output_type": "stream",
     "text": [
      "Xformers is not installed correctly. If you want to use memory_efficient_attention to accelerate training use the following command to install Xformers\n",
      "pip install xformers.\n",
      "The model 'InferenceEngine' is not supported for text-generation. Supported models are ['BartForCausalLM', 'BertLMHeadModel', 'BertGenerationDecoder', 'BigBirdForCausalLM', 'BigBirdPegasusForCausalLM', 'BioGptForCausalLM', 'BlenderbotForCausalLM', 'BlenderbotSmallForCausalLM', 'BloomForCausalLM', 'CamembertForCausalLM', 'CodeGenForCausalLM', 'CpmAntForCausalLM', 'CTRLLMHeadModel', 'Data2VecTextForCausalLM', 'ElectraForCausalLM', 'ErnieForCausalLM', 'GitForCausalLM', 'GPT2LMHeadModel', 'GPT2LMHeadModel', 'GPTBigCodeForCausalLM', 'GPTNeoForCausalLM', 'GPTNeoXForCausalLM', 'GPTNeoXJapaneseForCausalLM', 'GPTJForCausalLM', 'LlamaForCausalLM', 'MarianForCausalLM', 'MBartForCausalLM', 'MegaForCausalLM', 'MegatronBertForCausalLM', 'MvpForCausalLM', 'OpenLlamaForCausalLM', 'OpenAIGPTLMHeadModel', 'OPTForCausalLM', 'PegasusForCausalLM', 'PLBartForCausalLM', 'ProphetNetForCausalLM', 'QDQBertLMHeadModel', 'ReformerModelWithLMHead', 'RemBertForCausalLM', 'RobertaForCausalLM', 'RobertaPreLayerNormForCausalLM', 'RoCBertForCausalLM', 'RoFormerForCausalLM', 'RwkvForCausalLM', 'Speech2Text2ForCausalLM', 'TransfoXLLMHeadModel', 'TrOCRForCausalLM', 'XGLMForCausalLM', 'XLMWithLMHeadModel', 'XLMProphetNetForCausalLM', 'XLMRobertaForCausalLM', 'XLMRobertaXLForCausalLM', 'XLNetLMHeadModel', 'XmodForCausalLM'].\n"
     ]
    }
   ],
   "source": [
    "import torch\n",
    "import deepspeed\n",
    "from transformers import pipeline, AutoModelForCausalLM, AutoTokenizer, GPTNeoXLayer\n",
    "\n",
    "with deepspeed.OnDevice(dtype=torch.float16, device=\"cuda\"):\n",
    "    model = AutoModelForCausalLM.from_pretrained(\n",
    "        model_id,\n",
    "        torch_dtype=torch.float16,\n",
    "        low_cpu_mem_usage=True,\n",
    "        cache_dir=local_model_path\n",
    "    )\n",
    "\n",
    "config = {\n",
    "    \"tensor_parallel\": {\"tp_size\": 1},\n",
    "    \"dtype\": \"fp16\",\n",
    "    \"injection_policy\": {\n",
    "        GPTNeoXLayer:('attention.dense', 'mlp.dense_4h_to_h')\n",
    "    }\n",
    "}\n",
    "\n",
    "model = deepspeed.init_inference(model, config)\n",
    "\n",
    "local_rank = int(os.getenv('LOCAL_RANK', '0'))\n",
    "tokenizer = AutoTokenizer.from_pretrained(model_id)\n",
    "generator = pipeline(\n",
    "    task=\"text-generation\", model=model, tokenizer=tokenizer, device=local_rank\n",
    ")"
   ]
  },
  {
   "cell_type": "code",
   "execution_count": 18,
   "id": "1feefbff-db06-4e71-b7f8-6d8c313df2ef",
   "metadata": {
    "tags": []
   },
   "outputs": [
    {
     "data": {
      "application/vnd.jupyter.widget-view+json": {
       "model_id": "34b1db4f91fe491b8991174f9ed926d8",
       "version_major": 2,
       "version_minor": 0
      },
      "text/plain": [
       "Downloading (…)okenizer_config.json:   0%|          | 0.00/210 [00:00<?, ?B/s]"
      ]
     },
     "metadata": {},
     "output_type": "display_data"
    },
    {
     "data": {
      "application/vnd.jupyter.widget-view+json": {
       "model_id": "d8708224b4684b0488f2e670891a2c6a",
       "version_major": 2,
       "version_minor": 0
      },
      "text/plain": [
       "Downloading (…)/main/tokenizer.json:   0%|          | 0.00/1.65M [00:00<?, ?B/s]"
      ]
     },
     "metadata": {},
     "output_type": "display_data"
    },
    {
     "data": {
      "application/vnd.jupyter.widget-view+json": {
       "model_id": "525812db20704243954a9c467a56caa4",
       "version_major": 2,
       "version_minor": 0
      },
      "text/plain": [
       "Downloading (…)cial_tokens_map.json:   0%|          | 0.00/185 [00:00<?, ?B/s]"
      ]
     },
     "metadata": {},
     "output_type": "display_data"
    },
    {
     "name": "stderr",
     "output_type": "stream",
     "text": [
      "Xformers is not installed correctly. If you want to use memory_efficient_attention to accelerate training use the following command to install Xformers\n",
      "pip install xformers.\n"
     ]
    }
   ],
   "source": [
    "# config = {\n",
    "#     \"tensor_parallel\": {\"tp_size\": 1},\n",
    "#     \"dtype\": \"fp16\",\n",
    "#     \"injection_policy\": {\n",
    "#         GPTNeoXLayer:('attention.dense', 'mlp.dense_4h_to_h')\n",
    "#     }\n",
    "# }\n",
    "\n",
    "# modl = deepspeed.init_inference(model, config)\n",
    "\n",
    "local_rank = int(os.getenv('LOCAL_RANK', '0'))\n",
    "tokenizer = AutoTokenizer.from_pretrained(model_id)\n",
    "generator = pipeline(\n",
    "    task=\"text-generation\", model=model, tokenizer=tokenizer\n",
    ")"
   ]
  },
  {
   "cell_type": "code",
   "execution_count": 73,
   "id": "a93f15c3-a307-43bc-875b-91b677132301",
   "metadata": {
    "tags": []
   },
   "outputs": [],
   "source": [
    "import json\n",
    "from inference_lib import Prompter\n",
    "\n",
    "prompter = Prompter(\"korwkv\")\n",
    "\n",
    "params = {\n",
    "    \"do_sample\": False,\n",
    "    \"max_new_tokens\": 256,\n",
    "    \"return_full_text\": False,\n",
    "    \"temperature\": 0.2,\n",
    "    \"top_p\": 0.9,\n",
    "    \"return_full_text\": False,\n",
    "    \"repetition_penalty\": 1.2,\n",
    "    \"early_stopping\": True,\n",
    "    \"presence_penalty\": None,\n",
    "    \"eos_token_id\": 2,\n",
    "}"
   ]
  },
  {
   "cell_type": "code",
   "execution_count": 81,
   "id": "4ff35ba6-ff24-4ded-9178-dfd1d2b6374c",
   "metadata": {
    "tags": []
   },
   "outputs": [
    {
     "name": "stderr",
     "output_type": "stream",
     "text": [
      "Setting `pad_token_id` to `eos_token_id`:2 for open-end generation.\n"
     ]
    },
    {
     "name": "stdout",
     "output_type": "stream",
     "text": [
      "Amazon Web Services는 AWS의 서비스 이름입니다. 이 서비스는 클라우드 컴퓨팅 서비스를 제공하며, 전 세계 여러 지역에서 사용 가능합니다.  아마존은 고객이 더 많은 것을 할 수 있도록 지원하고자 합니다. 이를 위해 Amazon Web Services를 통해 기업이 IT 인프라를 쉽게 확장하고 관리할 수 있는 솔루션을 제공하고 있습니다.\n"
     ]
    }
   ],
   "source": [
    "instruction = \"\"\n",
    "input_text = \"아마존 웹서비스(AWS)에 대해 알려줘.\"\n",
    "prompt = prompter.generate_prompt(instruction, input_text)\n",
    "payload = {\n",
    "    \"inputs\": prompt,\n",
    "    \"parameters\": params\n",
    "}\n",
    "\n",
    "text_inputs, params = payload[\"inputs\"], payload[\"parameters\"]\n",
    "result = generator(text_inputs, **params)\n",
    "print(result[0]['generated_text'].split('###')[0])"
   ]
  },
  {
   "cell_type": "code",
   "execution_count": 84,
   "id": "b6469197-e9a3-4738-9489-fe7a6072d8ee",
   "metadata": {
    "tags": []
   },
   "outputs": [
    {
     "name": "stderr",
     "output_type": "stream",
     "text": [
      "Setting `pad_token_id` to `eos_token_id`:2 for open-end generation.\n"
     ]
    },
    {
     "name": "stdout",
     "output_type": "stream",
     "text": [
      "\"좀 어떠니?\"라는 질문에 대한 대답은 상황에 따라 다를 수 있습니다. 예를 들어, \"오늘은 기분이 좋아.\"라고 말할 수도 있고, 아니면 다른 방식으로 표현할 수도 있습니다. 하지만 오늘 기분이 어떤지 묻는 것은 매우 중요합니다!\n"
     ]
    }
   ],
   "source": [
    "instruction = \"\"\n",
    "input_text = \"오늘 기분은 좀 어때?\"\n",
    "prompt = prompter.generate_prompt(instruction, input_text)\n",
    "payload = {\n",
    "    \"inputs\": prompt,\n",
    "    \"parameters\": params\n",
    "}\n",
    "\n",
    "text_inputs, params = payload[\"inputs\"], payload[\"parameters\"]\n",
    "result = generator(text_inputs, **params)\n",
    "print(result[0]['generated_text'].split('###')[0])"
   ]
  },
  {
   "cell_type": "code",
   "execution_count": 85,
   "id": "d01a4178-25c7-4933-8d9d-bd4dc937d4fb",
   "metadata": {
    "tags": []
   },
   "outputs": [
    {
     "name": "stderr",
     "output_type": "stream",
     "text": [
      "Setting `pad_token_id` to `eos_token_id`:2 for open-end generation.\n"
     ]
    },
    {
     "name": "stdout",
     "output_type": "stream",
     "text": [
      "선물 투자를 처음 시작하시는 분이라면, 주식과 마찬가지로 개별 종목에 투자하는 것이 좋습니다. 다만 초보자의 경우 위험성이 크기 때문에 안정적인 선물이 적합합니다. \n",
      "예를 들어 KOSPI 200 지수 선물을 매수하는 방법이 있습니다. 이 때 주의할 점은 지수가 상승하더라도 수익을 얻을 수 있는 만큼 손실도 발생할 수 있다는 점입니다. 따라서 적절한 비율로 포트폴리오를 구성하는 것이 중요합니다.\n"
     ]
    }
   ],
   "source": [
    "instruction = \"\"\n",
    "input_text = \"투자 초심자가 하기 좋은 선물 투자 종류를 알려주세요.\"\n",
    "prompt = prompter.generate_prompt(instruction, input_text)\n",
    "payload = {\n",
    "    \"inputs\": prompt,\n",
    "    \"parameters\": params\n",
    "}\n",
    "\n",
    "text_inputs, params = payload[\"inputs\"], payload[\"parameters\"]\n",
    "result = generator(text_inputs, **params)\n",
    "print(result[0]['generated_text'].split('###')[0])"
   ]
  }
 ],
 "metadata": {
  "kernelspec": {
   "display_name": "conda_pytorch_p310",
   "language": "python",
   "name": "conda_pytorch_p310"
  },
  "language_info": {
   "codemirror_mode": {
    "name": "ipython",
    "version": 3
   },
   "file_extension": ".py",
   "mimetype": "text/x-python",
   "name": "python",
   "nbconvert_exporter": "python",
   "pygments_lexer": "ipython3",
   "version": "3.10.10"
  }
 },
 "nbformat": 4,
 "nbformat_minor": 5
}
